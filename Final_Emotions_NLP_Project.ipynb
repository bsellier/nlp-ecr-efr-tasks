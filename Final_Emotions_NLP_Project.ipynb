{
  "nbformat": 4,
  "nbformat_minor": 0,
  "metadata": {
    "colab": {
      "provenance": [],
      "gpuType": "T4"
    },
    "kernelspec": {
      "name": "python3",
      "display_name": "Python 3"
    },
    "language_info": {
      "name": "python"
    },
    "widgets": {
      "application/vnd.jupyter.widget-state+json": {
        "d419472ef9de447789fd6ea7273d507b": {
          "model_module": "@jupyter-widgets/controls",
          "model_name": "HBoxModel",
          "model_module_version": "1.5.0",
          "state": {
            "_dom_classes": [],
            "_model_module": "@jupyter-widgets/controls",
            "_model_module_version": "1.5.0",
            "_model_name": "HBoxModel",
            "_view_count": null,
            "_view_module": "@jupyter-widgets/controls",
            "_view_module_version": "1.5.0",
            "_view_name": "HBoxView",
            "box_style": "",
            "children": [
              "IPY_MODEL_db33066dd6844081b58f36f370df141a",
              "IPY_MODEL_c89c32b5e832438693caff34ebb20f61",
              "IPY_MODEL_d5f1d6b2f96141af94f8343254789ed0"
            ],
            "layout": "IPY_MODEL_68741f6f67674ec18c0ce0d3c9b88ccc"
          }
        },
        "db33066dd6844081b58f36f370df141a": {
          "model_module": "@jupyter-widgets/controls",
          "model_name": "HTMLModel",
          "model_module_version": "1.5.0",
          "state": {
            "_dom_classes": [],
            "_model_module": "@jupyter-widgets/controls",
            "_model_module_version": "1.5.0",
            "_model_name": "HTMLModel",
            "_view_count": null,
            "_view_module": "@jupyter-widgets/controls",
            "_view_module_version": "1.5.0",
            "_view_name": "HTMLView",
            "description": "",
            "description_tooltip": null,
            "layout": "IPY_MODEL_f24f61ca9d094b439280b50e17e7880a",
            "placeholder": "​",
            "style": "IPY_MODEL_8286f81307c44132b9c0e821b51974e7",
            "value": "download?id=1wVNU2XvvhqjaGXZM-JLJwOt97gt4g9j2&amp;export=download&amp;authuser=0&amp;confirm=t&amp;uuid=9004532d-1162-47b2-985c-492039597222&amp;at=APZUnTWm8D1ZM5_aa68vV6nRf9FA:1705400593770: "
          }
        },
        "c89c32b5e832438693caff34ebb20f61": {
          "model_module": "@jupyter-widgets/controls",
          "model_name": "FloatProgressModel",
          "model_module_version": "1.5.0",
          "state": {
            "_dom_classes": [],
            "_model_module": "@jupyter-widgets/controls",
            "_model_module_version": "1.5.0",
            "_model_name": "FloatProgressModel",
            "_view_count": null,
            "_view_module": "@jupyter-widgets/controls",
            "_view_module_version": "1.5.0",
            "_view_name": "ProgressView",
            "bar_style": "success",
            "description": "",
            "description_tooltip": null,
            "layout": "IPY_MODEL_87f6553d74274352b389db7387598426",
            "max": 1,
            "min": 0,
            "orientation": "horizontal",
            "style": "IPY_MODEL_7eeae43fc2444bf5a1876d4605cb38b8",
            "value": 1
          }
        },
        "d5f1d6b2f96141af94f8343254789ed0": {
          "model_module": "@jupyter-widgets/controls",
          "model_name": "HTMLModel",
          "model_module_version": "1.5.0",
          "state": {
            "_dom_classes": [],
            "_model_module": "@jupyter-widgets/controls",
            "_model_module_version": "1.5.0",
            "_model_name": "HTMLModel",
            "_view_count": null,
            "_view_module": "@jupyter-widgets/controls",
            "_view_module_version": "1.5.0",
            "_view_name": "HTMLView",
            "description": "",
            "description_tooltip": null,
            "layout": "IPY_MODEL_a595fbda09f249b9b74c36025a08978b",
            "placeholder": "​",
            "style": "IPY_MODEL_f0621763f3f64a40964216d2be681db0",
            "value": " 8.19k/? [00:01&lt;00:00, 4.62kB/s]"
          }
        },
        "68741f6f67674ec18c0ce0d3c9b88ccc": {
          "model_module": "@jupyter-widgets/base",
          "model_name": "LayoutModel",
          "model_module_version": "1.2.0",
          "state": {
            "_model_module": "@jupyter-widgets/base",
            "_model_module_version": "1.2.0",
            "_model_name": "LayoutModel",
            "_view_count": null,
            "_view_module": "@jupyter-widgets/base",
            "_view_module_version": "1.2.0",
            "_view_name": "LayoutView",
            "align_content": null,
            "align_items": null,
            "align_self": null,
            "border": null,
            "bottom": null,
            "display": null,
            "flex": null,
            "flex_flow": null,
            "grid_area": null,
            "grid_auto_columns": null,
            "grid_auto_flow": null,
            "grid_auto_rows": null,
            "grid_column": null,
            "grid_gap": null,
            "grid_row": null,
            "grid_template_areas": null,
            "grid_template_columns": null,
            "grid_template_rows": null,
            "height": null,
            "justify_content": null,
            "justify_items": null,
            "left": null,
            "margin": null,
            "max_height": null,
            "max_width": null,
            "min_height": null,
            "min_width": null,
            "object_fit": null,
            "object_position": null,
            "order": null,
            "overflow": null,
            "overflow_x": null,
            "overflow_y": null,
            "padding": null,
            "right": null,
            "top": null,
            "visibility": null,
            "width": null
          }
        },
        "f24f61ca9d094b439280b50e17e7880a": {
          "model_module": "@jupyter-widgets/base",
          "model_name": "LayoutModel",
          "model_module_version": "1.2.0",
          "state": {
            "_model_module": "@jupyter-widgets/base",
            "_model_module_version": "1.2.0",
            "_model_name": "LayoutModel",
            "_view_count": null,
            "_view_module": "@jupyter-widgets/base",
            "_view_module_version": "1.2.0",
            "_view_name": "LayoutView",
            "align_content": null,
            "align_items": null,
            "align_self": null,
            "border": null,
            "bottom": null,
            "display": null,
            "flex": null,
            "flex_flow": null,
            "grid_area": null,
            "grid_auto_columns": null,
            "grid_auto_flow": null,
            "grid_auto_rows": null,
            "grid_column": null,
            "grid_gap": null,
            "grid_row": null,
            "grid_template_areas": null,
            "grid_template_columns": null,
            "grid_template_rows": null,
            "height": null,
            "justify_content": null,
            "justify_items": null,
            "left": null,
            "margin": null,
            "max_height": null,
            "max_width": null,
            "min_height": null,
            "min_width": null,
            "object_fit": null,
            "object_position": null,
            "order": null,
            "overflow": null,
            "overflow_x": null,
            "overflow_y": null,
            "padding": null,
            "right": null,
            "top": null,
            "visibility": null,
            "width": null
          }
        },
        "8286f81307c44132b9c0e821b51974e7": {
          "model_module": "@jupyter-widgets/controls",
          "model_name": "DescriptionStyleModel",
          "model_module_version": "1.5.0",
          "state": {
            "_model_module": "@jupyter-widgets/controls",
            "_model_module_version": "1.5.0",
            "_model_name": "DescriptionStyleModel",
            "_view_count": null,
            "_view_module": "@jupyter-widgets/base",
            "_view_module_version": "1.2.0",
            "_view_name": "StyleView",
            "description_width": ""
          }
        },
        "87f6553d74274352b389db7387598426": {
          "model_module": "@jupyter-widgets/base",
          "model_name": "LayoutModel",
          "model_module_version": "1.2.0",
          "state": {
            "_model_module": "@jupyter-widgets/base",
            "_model_module_version": "1.2.0",
            "_model_name": "LayoutModel",
            "_view_count": null,
            "_view_module": "@jupyter-widgets/base",
            "_view_module_version": "1.2.0",
            "_view_name": "LayoutView",
            "align_content": null,
            "align_items": null,
            "align_self": null,
            "border": null,
            "bottom": null,
            "display": null,
            "flex": null,
            "flex_flow": null,
            "grid_area": null,
            "grid_auto_columns": null,
            "grid_auto_flow": null,
            "grid_auto_rows": null,
            "grid_column": null,
            "grid_gap": null,
            "grid_row": null,
            "grid_template_areas": null,
            "grid_template_columns": null,
            "grid_template_rows": null,
            "height": null,
            "justify_content": null,
            "justify_items": null,
            "left": null,
            "margin": null,
            "max_height": null,
            "max_width": null,
            "min_height": null,
            "min_width": null,
            "object_fit": null,
            "object_position": null,
            "order": null,
            "overflow": null,
            "overflow_x": null,
            "overflow_y": null,
            "padding": null,
            "right": null,
            "top": null,
            "visibility": null,
            "width": "20px"
          }
        },
        "7eeae43fc2444bf5a1876d4605cb38b8": {
          "model_module": "@jupyter-widgets/controls",
          "model_name": "ProgressStyleModel",
          "model_module_version": "1.5.0",
          "state": {
            "_model_module": "@jupyter-widgets/controls",
            "_model_module_version": "1.5.0",
            "_model_name": "ProgressStyleModel",
            "_view_count": null,
            "_view_module": "@jupyter-widgets/base",
            "_view_module_version": "1.2.0",
            "_view_name": "StyleView",
            "bar_color": null,
            "description_width": ""
          }
        },
        "a595fbda09f249b9b74c36025a08978b": {
          "model_module": "@jupyter-widgets/base",
          "model_name": "LayoutModel",
          "model_module_version": "1.2.0",
          "state": {
            "_model_module": "@jupyter-widgets/base",
            "_model_module_version": "1.2.0",
            "_model_name": "LayoutModel",
            "_view_count": null,
            "_view_module": "@jupyter-widgets/base",
            "_view_module_version": "1.2.0",
            "_view_name": "LayoutView",
            "align_content": null,
            "align_items": null,
            "align_self": null,
            "border": null,
            "bottom": null,
            "display": null,
            "flex": null,
            "flex_flow": null,
            "grid_area": null,
            "grid_auto_columns": null,
            "grid_auto_flow": null,
            "grid_auto_rows": null,
            "grid_column": null,
            "grid_gap": null,
            "grid_row": null,
            "grid_template_areas": null,
            "grid_template_columns": null,
            "grid_template_rows": null,
            "height": null,
            "justify_content": null,
            "justify_items": null,
            "left": null,
            "margin": null,
            "max_height": null,
            "max_width": null,
            "min_height": null,
            "min_width": null,
            "object_fit": null,
            "object_position": null,
            "order": null,
            "overflow": null,
            "overflow_x": null,
            "overflow_y": null,
            "padding": null,
            "right": null,
            "top": null,
            "visibility": null,
            "width": null
          }
        },
        "f0621763f3f64a40964216d2be681db0": {
          "model_module": "@jupyter-widgets/controls",
          "model_name": "DescriptionStyleModel",
          "model_module_version": "1.5.0",
          "state": {
            "_model_module": "@jupyter-widgets/controls",
            "_model_module_version": "1.5.0",
            "_model_name": "DescriptionStyleModel",
            "_view_count": null,
            "_view_module": "@jupyter-widgets/base",
            "_view_module_version": "1.2.0",
            "_view_name": "StyleView",
            "description_width": ""
          }
        },
        "4cf8b67a38b543618351fdbbda39129f": {
          "model_module": "@jupyter-widgets/controls",
          "model_name": "HBoxModel",
          "model_module_version": "1.5.0",
          "state": {
            "_dom_classes": [],
            "_model_module": "@jupyter-widgets/controls",
            "_model_module_version": "1.5.0",
            "_model_name": "HBoxModel",
            "_view_count": null,
            "_view_module": "@jupyter-widgets/controls",
            "_view_module_version": "1.5.0",
            "_view_name": "HBoxView",
            "box_style": "",
            "children": [
              "IPY_MODEL_66e03db677994d0ca172314d659c1836",
              "IPY_MODEL_d80f7682293241f9b768493b7f17ed02",
              "IPY_MODEL_8cbf9d9da7374c118aa733f80a27fa20"
            ],
            "layout": "IPY_MODEL_175f8e7cf75949f08df1245657d52067"
          }
        },
        "66e03db677994d0ca172314d659c1836": {
          "model_module": "@jupyter-widgets/controls",
          "model_name": "HTMLModel",
          "model_module_version": "1.5.0",
          "state": {
            "_dom_classes": [],
            "_model_module": "@jupyter-widgets/controls",
            "_model_module_version": "1.5.0",
            "_model_name": "HTMLModel",
            "_view_count": null,
            "_view_module": "@jupyter-widgets/controls",
            "_view_module_version": "1.5.0",
            "_view_name": "HTMLView",
            "description": "",
            "description_tooltip": null,
            "layout": "IPY_MODEL_87e786b802c94350b199f991df301533",
            "placeholder": "​",
            "style": "IPY_MODEL_ba94a5185bc74941ae8a320e146b48d0",
            "value": "tokenizer_config.json: 100%"
          }
        },
        "d80f7682293241f9b768493b7f17ed02": {
          "model_module": "@jupyter-widgets/controls",
          "model_name": "FloatProgressModel",
          "model_module_version": "1.5.0",
          "state": {
            "_dom_classes": [],
            "_model_module": "@jupyter-widgets/controls",
            "_model_module_version": "1.5.0",
            "_model_name": "FloatProgressModel",
            "_view_count": null,
            "_view_module": "@jupyter-widgets/controls",
            "_view_module_version": "1.5.0",
            "_view_name": "ProgressView",
            "bar_style": "success",
            "description": "",
            "description_tooltip": null,
            "layout": "IPY_MODEL_fe097b3c1d414afd89e6942d6e2925ea",
            "max": 28,
            "min": 0,
            "orientation": "horizontal",
            "style": "IPY_MODEL_9b0e9225a15e4ddcb60c52f145ad92ce",
            "value": 28
          }
        },
        "8cbf9d9da7374c118aa733f80a27fa20": {
          "model_module": "@jupyter-widgets/controls",
          "model_name": "HTMLModel",
          "model_module_version": "1.5.0",
          "state": {
            "_dom_classes": [],
            "_model_module": "@jupyter-widgets/controls",
            "_model_module_version": "1.5.0",
            "_model_name": "HTMLModel",
            "_view_count": null,
            "_view_module": "@jupyter-widgets/controls",
            "_view_module_version": "1.5.0",
            "_view_name": "HTMLView",
            "description": "",
            "description_tooltip": null,
            "layout": "IPY_MODEL_eb24bc9e8833422db22dde5d59dec32a",
            "placeholder": "​",
            "style": "IPY_MODEL_e079622b613a4ab38d02842f555fa956",
            "value": " 28.0/28.0 [00:00&lt;00:00, 383B/s]"
          }
        },
        "175f8e7cf75949f08df1245657d52067": {
          "model_module": "@jupyter-widgets/base",
          "model_name": "LayoutModel",
          "model_module_version": "1.2.0",
          "state": {
            "_model_module": "@jupyter-widgets/base",
            "_model_module_version": "1.2.0",
            "_model_name": "LayoutModel",
            "_view_count": null,
            "_view_module": "@jupyter-widgets/base",
            "_view_module_version": "1.2.0",
            "_view_name": "LayoutView",
            "align_content": null,
            "align_items": null,
            "align_self": null,
            "border": null,
            "bottom": null,
            "display": null,
            "flex": null,
            "flex_flow": null,
            "grid_area": null,
            "grid_auto_columns": null,
            "grid_auto_flow": null,
            "grid_auto_rows": null,
            "grid_column": null,
            "grid_gap": null,
            "grid_row": null,
            "grid_template_areas": null,
            "grid_template_columns": null,
            "grid_template_rows": null,
            "height": null,
            "justify_content": null,
            "justify_items": null,
            "left": null,
            "margin": null,
            "max_height": null,
            "max_width": null,
            "min_height": null,
            "min_width": null,
            "object_fit": null,
            "object_position": null,
            "order": null,
            "overflow": null,
            "overflow_x": null,
            "overflow_y": null,
            "padding": null,
            "right": null,
            "top": null,
            "visibility": null,
            "width": null
          }
        },
        "87e786b802c94350b199f991df301533": {
          "model_module": "@jupyter-widgets/base",
          "model_name": "LayoutModel",
          "model_module_version": "1.2.0",
          "state": {
            "_model_module": "@jupyter-widgets/base",
            "_model_module_version": "1.2.0",
            "_model_name": "LayoutModel",
            "_view_count": null,
            "_view_module": "@jupyter-widgets/base",
            "_view_module_version": "1.2.0",
            "_view_name": "LayoutView",
            "align_content": null,
            "align_items": null,
            "align_self": null,
            "border": null,
            "bottom": null,
            "display": null,
            "flex": null,
            "flex_flow": null,
            "grid_area": null,
            "grid_auto_columns": null,
            "grid_auto_flow": null,
            "grid_auto_rows": null,
            "grid_column": null,
            "grid_gap": null,
            "grid_row": null,
            "grid_template_areas": null,
            "grid_template_columns": null,
            "grid_template_rows": null,
            "height": null,
            "justify_content": null,
            "justify_items": null,
            "left": null,
            "margin": null,
            "max_height": null,
            "max_width": null,
            "min_height": null,
            "min_width": null,
            "object_fit": null,
            "object_position": null,
            "order": null,
            "overflow": null,
            "overflow_x": null,
            "overflow_y": null,
            "padding": null,
            "right": null,
            "top": null,
            "visibility": null,
            "width": null
          }
        },
        "ba94a5185bc74941ae8a320e146b48d0": {
          "model_module": "@jupyter-widgets/controls",
          "model_name": "DescriptionStyleModel",
          "model_module_version": "1.5.0",
          "state": {
            "_model_module": "@jupyter-widgets/controls",
            "_model_module_version": "1.5.0",
            "_model_name": "DescriptionStyleModel",
            "_view_count": null,
            "_view_module": "@jupyter-widgets/base",
            "_view_module_version": "1.2.0",
            "_view_name": "StyleView",
            "description_width": ""
          }
        },
        "fe097b3c1d414afd89e6942d6e2925ea": {
          "model_module": "@jupyter-widgets/base",
          "model_name": "LayoutModel",
          "model_module_version": "1.2.0",
          "state": {
            "_model_module": "@jupyter-widgets/base",
            "_model_module_version": "1.2.0",
            "_model_name": "LayoutModel",
            "_view_count": null,
            "_view_module": "@jupyter-widgets/base",
            "_view_module_version": "1.2.0",
            "_view_name": "LayoutView",
            "align_content": null,
            "align_items": null,
            "align_self": null,
            "border": null,
            "bottom": null,
            "display": null,
            "flex": null,
            "flex_flow": null,
            "grid_area": null,
            "grid_auto_columns": null,
            "grid_auto_flow": null,
            "grid_auto_rows": null,
            "grid_column": null,
            "grid_gap": null,
            "grid_row": null,
            "grid_template_areas": null,
            "grid_template_columns": null,
            "grid_template_rows": null,
            "height": null,
            "justify_content": null,
            "justify_items": null,
            "left": null,
            "margin": null,
            "max_height": null,
            "max_width": null,
            "min_height": null,
            "min_width": null,
            "object_fit": null,
            "object_position": null,
            "order": null,
            "overflow": null,
            "overflow_x": null,
            "overflow_y": null,
            "padding": null,
            "right": null,
            "top": null,
            "visibility": null,
            "width": null
          }
        },
        "9b0e9225a15e4ddcb60c52f145ad92ce": {
          "model_module": "@jupyter-widgets/controls",
          "model_name": "ProgressStyleModel",
          "model_module_version": "1.5.0",
          "state": {
            "_model_module": "@jupyter-widgets/controls",
            "_model_module_version": "1.5.0",
            "_model_name": "ProgressStyleModel",
            "_view_count": null,
            "_view_module": "@jupyter-widgets/base",
            "_view_module_version": "1.2.0",
            "_view_name": "StyleView",
            "bar_color": null,
            "description_width": ""
          }
        },
        "eb24bc9e8833422db22dde5d59dec32a": {
          "model_module": "@jupyter-widgets/base",
          "model_name": "LayoutModel",
          "model_module_version": "1.2.0",
          "state": {
            "_model_module": "@jupyter-widgets/base",
            "_model_module_version": "1.2.0",
            "_model_name": "LayoutModel",
            "_view_count": null,
            "_view_module": "@jupyter-widgets/base",
            "_view_module_version": "1.2.0",
            "_view_name": "LayoutView",
            "align_content": null,
            "align_items": null,
            "align_self": null,
            "border": null,
            "bottom": null,
            "display": null,
            "flex": null,
            "flex_flow": null,
            "grid_area": null,
            "grid_auto_columns": null,
            "grid_auto_flow": null,
            "grid_auto_rows": null,
            "grid_column": null,
            "grid_gap": null,
            "grid_row": null,
            "grid_template_areas": null,
            "grid_template_columns": null,
            "grid_template_rows": null,
            "height": null,
            "justify_content": null,
            "justify_items": null,
            "left": null,
            "margin": null,
            "max_height": null,
            "max_width": null,
            "min_height": null,
            "min_width": null,
            "object_fit": null,
            "object_position": null,
            "order": null,
            "overflow": null,
            "overflow_x": null,
            "overflow_y": null,
            "padding": null,
            "right": null,
            "top": null,
            "visibility": null,
            "width": null
          }
        },
        "e079622b613a4ab38d02842f555fa956": {
          "model_module": "@jupyter-widgets/controls",
          "model_name": "DescriptionStyleModel",
          "model_module_version": "1.5.0",
          "state": {
            "_model_module": "@jupyter-widgets/controls",
            "_model_module_version": "1.5.0",
            "_model_name": "DescriptionStyleModel",
            "_view_count": null,
            "_view_module": "@jupyter-widgets/base",
            "_view_module_version": "1.2.0",
            "_view_name": "StyleView",
            "description_width": ""
          }
        },
        "93e5be2a2a2e41aa883eef5802eb96ec": {
          "model_module": "@jupyter-widgets/controls",
          "model_name": "HBoxModel",
          "model_module_version": "1.5.0",
          "state": {
            "_dom_classes": [],
            "_model_module": "@jupyter-widgets/controls",
            "_model_module_version": "1.5.0",
            "_model_name": "HBoxModel",
            "_view_count": null,
            "_view_module": "@jupyter-widgets/controls",
            "_view_module_version": "1.5.0",
            "_view_name": "HBoxView",
            "box_style": "",
            "children": [
              "IPY_MODEL_32a967c5e3cd4ccfaa289660eed8799d",
              "IPY_MODEL_892a3cc71daf4f61979e07b83b6fe839",
              "IPY_MODEL_547dc7fab0bc4148b1e6b1815623952d"
            ],
            "layout": "IPY_MODEL_65d21a79a1094befa830746ef8d164c8"
          }
        },
        "32a967c5e3cd4ccfaa289660eed8799d": {
          "model_module": "@jupyter-widgets/controls",
          "model_name": "HTMLModel",
          "model_module_version": "1.5.0",
          "state": {
            "_dom_classes": [],
            "_model_module": "@jupyter-widgets/controls",
            "_model_module_version": "1.5.0",
            "_model_name": "HTMLModel",
            "_view_count": null,
            "_view_module": "@jupyter-widgets/controls",
            "_view_module_version": "1.5.0",
            "_view_name": "HTMLView",
            "description": "",
            "description_tooltip": null,
            "layout": "IPY_MODEL_6be7b1fa1de04296ba0356cff2f7c752",
            "placeholder": "​",
            "style": "IPY_MODEL_96e1b34d836746a9bb455697eb284046",
            "value": "config.json: 100%"
          }
        },
        "892a3cc71daf4f61979e07b83b6fe839": {
          "model_module": "@jupyter-widgets/controls",
          "model_name": "FloatProgressModel",
          "model_module_version": "1.5.0",
          "state": {
            "_dom_classes": [],
            "_model_module": "@jupyter-widgets/controls",
            "_model_module_version": "1.5.0",
            "_model_name": "FloatProgressModel",
            "_view_count": null,
            "_view_module": "@jupyter-widgets/controls",
            "_view_module_version": "1.5.0",
            "_view_name": "ProgressView",
            "bar_style": "success",
            "description": "",
            "description_tooltip": null,
            "layout": "IPY_MODEL_f94a9e0017f94de58e15e45df612d182",
            "max": 570,
            "min": 0,
            "orientation": "horizontal",
            "style": "IPY_MODEL_6ac6135745da4019a3e95a1fcda16033",
            "value": 570
          }
        },
        "547dc7fab0bc4148b1e6b1815623952d": {
          "model_module": "@jupyter-widgets/controls",
          "model_name": "HTMLModel",
          "model_module_version": "1.5.0",
          "state": {
            "_dom_classes": [],
            "_model_module": "@jupyter-widgets/controls",
            "_model_module_version": "1.5.0",
            "_model_name": "HTMLModel",
            "_view_count": null,
            "_view_module": "@jupyter-widgets/controls",
            "_view_module_version": "1.5.0",
            "_view_name": "HTMLView",
            "description": "",
            "description_tooltip": null,
            "layout": "IPY_MODEL_4e887dff70d3452783944b2001ffeb51",
            "placeholder": "​",
            "style": "IPY_MODEL_805eebe88fb2404a940204100017aa2d",
            "value": " 570/570 [00:00&lt;00:00, 15.1kB/s]"
          }
        },
        "65d21a79a1094befa830746ef8d164c8": {
          "model_module": "@jupyter-widgets/base",
          "model_name": "LayoutModel",
          "model_module_version": "1.2.0",
          "state": {
            "_model_module": "@jupyter-widgets/base",
            "_model_module_version": "1.2.0",
            "_model_name": "LayoutModel",
            "_view_count": null,
            "_view_module": "@jupyter-widgets/base",
            "_view_module_version": "1.2.0",
            "_view_name": "LayoutView",
            "align_content": null,
            "align_items": null,
            "align_self": null,
            "border": null,
            "bottom": null,
            "display": null,
            "flex": null,
            "flex_flow": null,
            "grid_area": null,
            "grid_auto_columns": null,
            "grid_auto_flow": null,
            "grid_auto_rows": null,
            "grid_column": null,
            "grid_gap": null,
            "grid_row": null,
            "grid_template_areas": null,
            "grid_template_columns": null,
            "grid_template_rows": null,
            "height": null,
            "justify_content": null,
            "justify_items": null,
            "left": null,
            "margin": null,
            "max_height": null,
            "max_width": null,
            "min_height": null,
            "min_width": null,
            "object_fit": null,
            "object_position": null,
            "order": null,
            "overflow": null,
            "overflow_x": null,
            "overflow_y": null,
            "padding": null,
            "right": null,
            "top": null,
            "visibility": null,
            "width": null
          }
        },
        "6be7b1fa1de04296ba0356cff2f7c752": {
          "model_module": "@jupyter-widgets/base",
          "model_name": "LayoutModel",
          "model_module_version": "1.2.0",
          "state": {
            "_model_module": "@jupyter-widgets/base",
            "_model_module_version": "1.2.0",
            "_model_name": "LayoutModel",
            "_view_count": null,
            "_view_module": "@jupyter-widgets/base",
            "_view_module_version": "1.2.0",
            "_view_name": "LayoutView",
            "align_content": null,
            "align_items": null,
            "align_self": null,
            "border": null,
            "bottom": null,
            "display": null,
            "flex": null,
            "flex_flow": null,
            "grid_area": null,
            "grid_auto_columns": null,
            "grid_auto_flow": null,
            "grid_auto_rows": null,
            "grid_column": null,
            "grid_gap": null,
            "grid_row": null,
            "grid_template_areas": null,
            "grid_template_columns": null,
            "grid_template_rows": null,
            "height": null,
            "justify_content": null,
            "justify_items": null,
            "left": null,
            "margin": null,
            "max_height": null,
            "max_width": null,
            "min_height": null,
            "min_width": null,
            "object_fit": null,
            "object_position": null,
            "order": null,
            "overflow": null,
            "overflow_x": null,
            "overflow_y": null,
            "padding": null,
            "right": null,
            "top": null,
            "visibility": null,
            "width": null
          }
        },
        "96e1b34d836746a9bb455697eb284046": {
          "model_module": "@jupyter-widgets/controls",
          "model_name": "DescriptionStyleModel",
          "model_module_version": "1.5.0",
          "state": {
            "_model_module": "@jupyter-widgets/controls",
            "_model_module_version": "1.5.0",
            "_model_name": "DescriptionStyleModel",
            "_view_count": null,
            "_view_module": "@jupyter-widgets/base",
            "_view_module_version": "1.2.0",
            "_view_name": "StyleView",
            "description_width": ""
          }
        },
        "f94a9e0017f94de58e15e45df612d182": {
          "model_module": "@jupyter-widgets/base",
          "model_name": "LayoutModel",
          "model_module_version": "1.2.0",
          "state": {
            "_model_module": "@jupyter-widgets/base",
            "_model_module_version": "1.2.0",
            "_model_name": "LayoutModel",
            "_view_count": null,
            "_view_module": "@jupyter-widgets/base",
            "_view_module_version": "1.2.0",
            "_view_name": "LayoutView",
            "align_content": null,
            "align_items": null,
            "align_self": null,
            "border": null,
            "bottom": null,
            "display": null,
            "flex": null,
            "flex_flow": null,
            "grid_area": null,
            "grid_auto_columns": null,
            "grid_auto_flow": null,
            "grid_auto_rows": null,
            "grid_column": null,
            "grid_gap": null,
            "grid_row": null,
            "grid_template_areas": null,
            "grid_template_columns": null,
            "grid_template_rows": null,
            "height": null,
            "justify_content": null,
            "justify_items": null,
            "left": null,
            "margin": null,
            "max_height": null,
            "max_width": null,
            "min_height": null,
            "min_width": null,
            "object_fit": null,
            "object_position": null,
            "order": null,
            "overflow": null,
            "overflow_x": null,
            "overflow_y": null,
            "padding": null,
            "right": null,
            "top": null,
            "visibility": null,
            "width": null
          }
        },
        "6ac6135745da4019a3e95a1fcda16033": {
          "model_module": "@jupyter-widgets/controls",
          "model_name": "ProgressStyleModel",
          "model_module_version": "1.5.0",
          "state": {
            "_model_module": "@jupyter-widgets/controls",
            "_model_module_version": "1.5.0",
            "_model_name": "ProgressStyleModel",
            "_view_count": null,
            "_view_module": "@jupyter-widgets/base",
            "_view_module_version": "1.2.0",
            "_view_name": "StyleView",
            "bar_color": null,
            "description_width": ""
          }
        },
        "4e887dff70d3452783944b2001ffeb51": {
          "model_module": "@jupyter-widgets/base",
          "model_name": "LayoutModel",
          "model_module_version": "1.2.0",
          "state": {
            "_model_module": "@jupyter-widgets/base",
            "_model_module_version": "1.2.0",
            "_model_name": "LayoutModel",
            "_view_count": null,
            "_view_module": "@jupyter-widgets/base",
            "_view_module_version": "1.2.0",
            "_view_name": "LayoutView",
            "align_content": null,
            "align_items": null,
            "align_self": null,
            "border": null,
            "bottom": null,
            "display": null,
            "flex": null,
            "flex_flow": null,
            "grid_area": null,
            "grid_auto_columns": null,
            "grid_auto_flow": null,
            "grid_auto_rows": null,
            "grid_column": null,
            "grid_gap": null,
            "grid_row": null,
            "grid_template_areas": null,
            "grid_template_columns": null,
            "grid_template_rows": null,
            "height": null,
            "justify_content": null,
            "justify_items": null,
            "left": null,
            "margin": null,
            "max_height": null,
            "max_width": null,
            "min_height": null,
            "min_width": null,
            "object_fit": null,
            "object_position": null,
            "order": null,
            "overflow": null,
            "overflow_x": null,
            "overflow_y": null,
            "padding": null,
            "right": null,
            "top": null,
            "visibility": null,
            "width": null
          }
        },
        "805eebe88fb2404a940204100017aa2d": {
          "model_module": "@jupyter-widgets/controls",
          "model_name": "DescriptionStyleModel",
          "model_module_version": "1.5.0",
          "state": {
            "_model_module": "@jupyter-widgets/controls",
            "_model_module_version": "1.5.0",
            "_model_name": "DescriptionStyleModel",
            "_view_count": null,
            "_view_module": "@jupyter-widgets/base",
            "_view_module_version": "1.2.0",
            "_view_name": "StyleView",
            "description_width": ""
          }
        },
        "5acdda8423734739ac8099cca89672b8": {
          "model_module": "@jupyter-widgets/controls",
          "model_name": "HBoxModel",
          "model_module_version": "1.5.0",
          "state": {
            "_dom_classes": [],
            "_model_module": "@jupyter-widgets/controls",
            "_model_module_version": "1.5.0",
            "_model_name": "HBoxModel",
            "_view_count": null,
            "_view_module": "@jupyter-widgets/controls",
            "_view_module_version": "1.5.0",
            "_view_name": "HBoxView",
            "box_style": "",
            "children": [
              "IPY_MODEL_f444db9e19564441b095863025bc27a5",
              "IPY_MODEL_3edc89a1ddc74a5ebf4cecaf432e3af4",
              "IPY_MODEL_156b5ce41c1c4dd39e2292c71c696d17"
            ],
            "layout": "IPY_MODEL_a339309212c648d1a3d3ef2fbfbf8ab5"
          }
        },
        "f444db9e19564441b095863025bc27a5": {
          "model_module": "@jupyter-widgets/controls",
          "model_name": "HTMLModel",
          "model_module_version": "1.5.0",
          "state": {
            "_dom_classes": [],
            "_model_module": "@jupyter-widgets/controls",
            "_model_module_version": "1.5.0",
            "_model_name": "HTMLModel",
            "_view_count": null,
            "_view_module": "@jupyter-widgets/controls",
            "_view_module_version": "1.5.0",
            "_view_name": "HTMLView",
            "description": "",
            "description_tooltip": null,
            "layout": "IPY_MODEL_bd168718b44c45fa8e65fb225f215ef6",
            "placeholder": "​",
            "style": "IPY_MODEL_290422b6c1aa4f7b9ab1435e75fdc01f",
            "value": "vocab.txt: 100%"
          }
        },
        "3edc89a1ddc74a5ebf4cecaf432e3af4": {
          "model_module": "@jupyter-widgets/controls",
          "model_name": "FloatProgressModel",
          "model_module_version": "1.5.0",
          "state": {
            "_dom_classes": [],
            "_model_module": "@jupyter-widgets/controls",
            "_model_module_version": "1.5.0",
            "_model_name": "FloatProgressModel",
            "_view_count": null,
            "_view_module": "@jupyter-widgets/controls",
            "_view_module_version": "1.5.0",
            "_view_name": "ProgressView",
            "bar_style": "success",
            "description": "",
            "description_tooltip": null,
            "layout": "IPY_MODEL_3de6003ad5ad48d7bf79ef19d3e43d8d",
            "max": 231508,
            "min": 0,
            "orientation": "horizontal",
            "style": "IPY_MODEL_160eb51bfb48487d9f7bb17b659fbe8c",
            "value": 231508
          }
        },
        "156b5ce41c1c4dd39e2292c71c696d17": {
          "model_module": "@jupyter-widgets/controls",
          "model_name": "HTMLModel",
          "model_module_version": "1.5.0",
          "state": {
            "_dom_classes": [],
            "_model_module": "@jupyter-widgets/controls",
            "_model_module_version": "1.5.0",
            "_model_name": "HTMLModel",
            "_view_count": null,
            "_view_module": "@jupyter-widgets/controls",
            "_view_module_version": "1.5.0",
            "_view_name": "HTMLView",
            "description": "",
            "description_tooltip": null,
            "layout": "IPY_MODEL_142bc896505740368e2b4580927b1cfe",
            "placeholder": "​",
            "style": "IPY_MODEL_3e393bdde6e243bd96dede9f0d19fe00",
            "value": " 232k/232k [00:00&lt;00:00, 5.09MB/s]"
          }
        },
        "a339309212c648d1a3d3ef2fbfbf8ab5": {
          "model_module": "@jupyter-widgets/base",
          "model_name": "LayoutModel",
          "model_module_version": "1.2.0",
          "state": {
            "_model_module": "@jupyter-widgets/base",
            "_model_module_version": "1.2.0",
            "_model_name": "LayoutModel",
            "_view_count": null,
            "_view_module": "@jupyter-widgets/base",
            "_view_module_version": "1.2.0",
            "_view_name": "LayoutView",
            "align_content": null,
            "align_items": null,
            "align_self": null,
            "border": null,
            "bottom": null,
            "display": null,
            "flex": null,
            "flex_flow": null,
            "grid_area": null,
            "grid_auto_columns": null,
            "grid_auto_flow": null,
            "grid_auto_rows": null,
            "grid_column": null,
            "grid_gap": null,
            "grid_row": null,
            "grid_template_areas": null,
            "grid_template_columns": null,
            "grid_template_rows": null,
            "height": null,
            "justify_content": null,
            "justify_items": null,
            "left": null,
            "margin": null,
            "max_height": null,
            "max_width": null,
            "min_height": null,
            "min_width": null,
            "object_fit": null,
            "object_position": null,
            "order": null,
            "overflow": null,
            "overflow_x": null,
            "overflow_y": null,
            "padding": null,
            "right": null,
            "top": null,
            "visibility": null,
            "width": null
          }
        },
        "bd168718b44c45fa8e65fb225f215ef6": {
          "model_module": "@jupyter-widgets/base",
          "model_name": "LayoutModel",
          "model_module_version": "1.2.0",
          "state": {
            "_model_module": "@jupyter-widgets/base",
            "_model_module_version": "1.2.0",
            "_model_name": "LayoutModel",
            "_view_count": null,
            "_view_module": "@jupyter-widgets/base",
            "_view_module_version": "1.2.0",
            "_view_name": "LayoutView",
            "align_content": null,
            "align_items": null,
            "align_self": null,
            "border": null,
            "bottom": null,
            "display": null,
            "flex": null,
            "flex_flow": null,
            "grid_area": null,
            "grid_auto_columns": null,
            "grid_auto_flow": null,
            "grid_auto_rows": null,
            "grid_column": null,
            "grid_gap": null,
            "grid_row": null,
            "grid_template_areas": null,
            "grid_template_columns": null,
            "grid_template_rows": null,
            "height": null,
            "justify_content": null,
            "justify_items": null,
            "left": null,
            "margin": null,
            "max_height": null,
            "max_width": null,
            "min_height": null,
            "min_width": null,
            "object_fit": null,
            "object_position": null,
            "order": null,
            "overflow": null,
            "overflow_x": null,
            "overflow_y": null,
            "padding": null,
            "right": null,
            "top": null,
            "visibility": null,
            "width": null
          }
        },
        "290422b6c1aa4f7b9ab1435e75fdc01f": {
          "model_module": "@jupyter-widgets/controls",
          "model_name": "DescriptionStyleModel",
          "model_module_version": "1.5.0",
          "state": {
            "_model_module": "@jupyter-widgets/controls",
            "_model_module_version": "1.5.0",
            "_model_name": "DescriptionStyleModel",
            "_view_count": null,
            "_view_module": "@jupyter-widgets/base",
            "_view_module_version": "1.2.0",
            "_view_name": "StyleView",
            "description_width": ""
          }
        },
        "3de6003ad5ad48d7bf79ef19d3e43d8d": {
          "model_module": "@jupyter-widgets/base",
          "model_name": "LayoutModel",
          "model_module_version": "1.2.0",
          "state": {
            "_model_module": "@jupyter-widgets/base",
            "_model_module_version": "1.2.0",
            "_model_name": "LayoutModel",
            "_view_count": null,
            "_view_module": "@jupyter-widgets/base",
            "_view_module_version": "1.2.0",
            "_view_name": "LayoutView",
            "align_content": null,
            "align_items": null,
            "align_self": null,
            "border": null,
            "bottom": null,
            "display": null,
            "flex": null,
            "flex_flow": null,
            "grid_area": null,
            "grid_auto_columns": null,
            "grid_auto_flow": null,
            "grid_auto_rows": null,
            "grid_column": null,
            "grid_gap": null,
            "grid_row": null,
            "grid_template_areas": null,
            "grid_template_columns": null,
            "grid_template_rows": null,
            "height": null,
            "justify_content": null,
            "justify_items": null,
            "left": null,
            "margin": null,
            "max_height": null,
            "max_width": null,
            "min_height": null,
            "min_width": null,
            "object_fit": null,
            "object_position": null,
            "order": null,
            "overflow": null,
            "overflow_x": null,
            "overflow_y": null,
            "padding": null,
            "right": null,
            "top": null,
            "visibility": null,
            "width": null
          }
        },
        "160eb51bfb48487d9f7bb17b659fbe8c": {
          "model_module": "@jupyter-widgets/controls",
          "model_name": "ProgressStyleModel",
          "model_module_version": "1.5.0",
          "state": {
            "_model_module": "@jupyter-widgets/controls",
            "_model_module_version": "1.5.0",
            "_model_name": "ProgressStyleModel",
            "_view_count": null,
            "_view_module": "@jupyter-widgets/base",
            "_view_module_version": "1.2.0",
            "_view_name": "StyleView",
            "bar_color": null,
            "description_width": ""
          }
        },
        "142bc896505740368e2b4580927b1cfe": {
          "model_module": "@jupyter-widgets/base",
          "model_name": "LayoutModel",
          "model_module_version": "1.2.0",
          "state": {
            "_model_module": "@jupyter-widgets/base",
            "_model_module_version": "1.2.0",
            "_model_name": "LayoutModel",
            "_view_count": null,
            "_view_module": "@jupyter-widgets/base",
            "_view_module_version": "1.2.0",
            "_view_name": "LayoutView",
            "align_content": null,
            "align_items": null,
            "align_self": null,
            "border": null,
            "bottom": null,
            "display": null,
            "flex": null,
            "flex_flow": null,
            "grid_area": null,
            "grid_auto_columns": null,
            "grid_auto_flow": null,
            "grid_auto_rows": null,
            "grid_column": null,
            "grid_gap": null,
            "grid_row": null,
            "grid_template_areas": null,
            "grid_template_columns": null,
            "grid_template_rows": null,
            "height": null,
            "justify_content": null,
            "justify_items": null,
            "left": null,
            "margin": null,
            "max_height": null,
            "max_width": null,
            "min_height": null,
            "min_width": null,
            "object_fit": null,
            "object_position": null,
            "order": null,
            "overflow": null,
            "overflow_x": null,
            "overflow_y": null,
            "padding": null,
            "right": null,
            "top": null,
            "visibility": null,
            "width": null
          }
        },
        "3e393bdde6e243bd96dede9f0d19fe00": {
          "model_module": "@jupyter-widgets/controls",
          "model_name": "DescriptionStyleModel",
          "model_module_version": "1.5.0",
          "state": {
            "_model_module": "@jupyter-widgets/controls",
            "_model_module_version": "1.5.0",
            "_model_name": "DescriptionStyleModel",
            "_view_count": null,
            "_view_module": "@jupyter-widgets/base",
            "_view_module_version": "1.2.0",
            "_view_name": "StyleView",
            "description_width": ""
          }
        },
        "5c94a7fb9fba41289160c198752bbae7": {
          "model_module": "@jupyter-widgets/controls",
          "model_name": "HBoxModel",
          "model_module_version": "1.5.0",
          "state": {
            "_dom_classes": [],
            "_model_module": "@jupyter-widgets/controls",
            "_model_module_version": "1.5.0",
            "_model_name": "HBoxModel",
            "_view_count": null,
            "_view_module": "@jupyter-widgets/controls",
            "_view_module_version": "1.5.0",
            "_view_name": "HBoxView",
            "box_style": "",
            "children": [
              "IPY_MODEL_732f59a12c84453dbf1df8044ce62a2a",
              "IPY_MODEL_98d4b3522efa461dbe01b638754b4e4a",
              "IPY_MODEL_28f936abd2d141dc9b088fd708164cbb"
            ],
            "layout": "IPY_MODEL_7b905a42685e4169bce0ddb51cad7842"
          }
        },
        "732f59a12c84453dbf1df8044ce62a2a": {
          "model_module": "@jupyter-widgets/controls",
          "model_name": "HTMLModel",
          "model_module_version": "1.5.0",
          "state": {
            "_dom_classes": [],
            "_model_module": "@jupyter-widgets/controls",
            "_model_module_version": "1.5.0",
            "_model_name": "HTMLModel",
            "_view_count": null,
            "_view_module": "@jupyter-widgets/controls",
            "_view_module_version": "1.5.0",
            "_view_name": "HTMLView",
            "description": "",
            "description_tooltip": null,
            "layout": "IPY_MODEL_adbadf2cc73d4db292a10a5477d16bb1",
            "placeholder": "​",
            "style": "IPY_MODEL_4fd1a7cd05d4447f8a48f2b431560c75",
            "value": "tokenizer.json: 100%"
          }
        },
        "98d4b3522efa461dbe01b638754b4e4a": {
          "model_module": "@jupyter-widgets/controls",
          "model_name": "FloatProgressModel",
          "model_module_version": "1.5.0",
          "state": {
            "_dom_classes": [],
            "_model_module": "@jupyter-widgets/controls",
            "_model_module_version": "1.5.0",
            "_model_name": "FloatProgressModel",
            "_view_count": null,
            "_view_module": "@jupyter-widgets/controls",
            "_view_module_version": "1.5.0",
            "_view_name": "ProgressView",
            "bar_style": "success",
            "description": "",
            "description_tooltip": null,
            "layout": "IPY_MODEL_8fed8820cd3c42ebadd8d2832bbfda51",
            "max": 466062,
            "min": 0,
            "orientation": "horizontal",
            "style": "IPY_MODEL_92f22866836f4cd1ba89f054d0bb4900",
            "value": 466062
          }
        },
        "28f936abd2d141dc9b088fd708164cbb": {
          "model_module": "@jupyter-widgets/controls",
          "model_name": "HTMLModel",
          "model_module_version": "1.5.0",
          "state": {
            "_dom_classes": [],
            "_model_module": "@jupyter-widgets/controls",
            "_model_module_version": "1.5.0",
            "_model_name": "HTMLModel",
            "_view_count": null,
            "_view_module": "@jupyter-widgets/controls",
            "_view_module_version": "1.5.0",
            "_view_name": "HTMLView",
            "description": "",
            "description_tooltip": null,
            "layout": "IPY_MODEL_311bded9155d4aadb407edf2e94d9c1b",
            "placeholder": "​",
            "style": "IPY_MODEL_5d48a73fe3be4f1992af6417bb83b837",
            "value": " 466k/466k [00:00&lt;00:00, 6.65MB/s]"
          }
        },
        "7b905a42685e4169bce0ddb51cad7842": {
          "model_module": "@jupyter-widgets/base",
          "model_name": "LayoutModel",
          "model_module_version": "1.2.0",
          "state": {
            "_model_module": "@jupyter-widgets/base",
            "_model_module_version": "1.2.0",
            "_model_name": "LayoutModel",
            "_view_count": null,
            "_view_module": "@jupyter-widgets/base",
            "_view_module_version": "1.2.0",
            "_view_name": "LayoutView",
            "align_content": null,
            "align_items": null,
            "align_self": null,
            "border": null,
            "bottom": null,
            "display": null,
            "flex": null,
            "flex_flow": null,
            "grid_area": null,
            "grid_auto_columns": null,
            "grid_auto_flow": null,
            "grid_auto_rows": null,
            "grid_column": null,
            "grid_gap": null,
            "grid_row": null,
            "grid_template_areas": null,
            "grid_template_columns": null,
            "grid_template_rows": null,
            "height": null,
            "justify_content": null,
            "justify_items": null,
            "left": null,
            "margin": null,
            "max_height": null,
            "max_width": null,
            "min_height": null,
            "min_width": null,
            "object_fit": null,
            "object_position": null,
            "order": null,
            "overflow": null,
            "overflow_x": null,
            "overflow_y": null,
            "padding": null,
            "right": null,
            "top": null,
            "visibility": null,
            "width": null
          }
        },
        "adbadf2cc73d4db292a10a5477d16bb1": {
          "model_module": "@jupyter-widgets/base",
          "model_name": "LayoutModel",
          "model_module_version": "1.2.0",
          "state": {
            "_model_module": "@jupyter-widgets/base",
            "_model_module_version": "1.2.0",
            "_model_name": "LayoutModel",
            "_view_count": null,
            "_view_module": "@jupyter-widgets/base",
            "_view_module_version": "1.2.0",
            "_view_name": "LayoutView",
            "align_content": null,
            "align_items": null,
            "align_self": null,
            "border": null,
            "bottom": null,
            "display": null,
            "flex": null,
            "flex_flow": null,
            "grid_area": null,
            "grid_auto_columns": null,
            "grid_auto_flow": null,
            "grid_auto_rows": null,
            "grid_column": null,
            "grid_gap": null,
            "grid_row": null,
            "grid_template_areas": null,
            "grid_template_columns": null,
            "grid_template_rows": null,
            "height": null,
            "justify_content": null,
            "justify_items": null,
            "left": null,
            "margin": null,
            "max_height": null,
            "max_width": null,
            "min_height": null,
            "min_width": null,
            "object_fit": null,
            "object_position": null,
            "order": null,
            "overflow": null,
            "overflow_x": null,
            "overflow_y": null,
            "padding": null,
            "right": null,
            "top": null,
            "visibility": null,
            "width": null
          }
        },
        "4fd1a7cd05d4447f8a48f2b431560c75": {
          "model_module": "@jupyter-widgets/controls",
          "model_name": "DescriptionStyleModel",
          "model_module_version": "1.5.0",
          "state": {
            "_model_module": "@jupyter-widgets/controls",
            "_model_module_version": "1.5.0",
            "_model_name": "DescriptionStyleModel",
            "_view_count": null,
            "_view_module": "@jupyter-widgets/base",
            "_view_module_version": "1.2.0",
            "_view_name": "StyleView",
            "description_width": ""
          }
        },
        "8fed8820cd3c42ebadd8d2832bbfda51": {
          "model_module": "@jupyter-widgets/base",
          "model_name": "LayoutModel",
          "model_module_version": "1.2.0",
          "state": {
            "_model_module": "@jupyter-widgets/base",
            "_model_module_version": "1.2.0",
            "_model_name": "LayoutModel",
            "_view_count": null,
            "_view_module": "@jupyter-widgets/base",
            "_view_module_version": "1.2.0",
            "_view_name": "LayoutView",
            "align_content": null,
            "align_items": null,
            "align_self": null,
            "border": null,
            "bottom": null,
            "display": null,
            "flex": null,
            "flex_flow": null,
            "grid_area": null,
            "grid_auto_columns": null,
            "grid_auto_flow": null,
            "grid_auto_rows": null,
            "grid_column": null,
            "grid_gap": null,
            "grid_row": null,
            "grid_template_areas": null,
            "grid_template_columns": null,
            "grid_template_rows": null,
            "height": null,
            "justify_content": null,
            "justify_items": null,
            "left": null,
            "margin": null,
            "max_height": null,
            "max_width": null,
            "min_height": null,
            "min_width": null,
            "object_fit": null,
            "object_position": null,
            "order": null,
            "overflow": null,
            "overflow_x": null,
            "overflow_y": null,
            "padding": null,
            "right": null,
            "top": null,
            "visibility": null,
            "width": null
          }
        },
        "92f22866836f4cd1ba89f054d0bb4900": {
          "model_module": "@jupyter-widgets/controls",
          "model_name": "ProgressStyleModel",
          "model_module_version": "1.5.0",
          "state": {
            "_model_module": "@jupyter-widgets/controls",
            "_model_module_version": "1.5.0",
            "_model_name": "ProgressStyleModel",
            "_view_count": null,
            "_view_module": "@jupyter-widgets/base",
            "_view_module_version": "1.2.0",
            "_view_name": "StyleView",
            "bar_color": null,
            "description_width": ""
          }
        },
        "311bded9155d4aadb407edf2e94d9c1b": {
          "model_module": "@jupyter-widgets/base",
          "model_name": "LayoutModel",
          "model_module_version": "1.2.0",
          "state": {
            "_model_module": "@jupyter-widgets/base",
            "_model_module_version": "1.2.0",
            "_model_name": "LayoutModel",
            "_view_count": null,
            "_view_module": "@jupyter-widgets/base",
            "_view_module_version": "1.2.0",
            "_view_name": "LayoutView",
            "align_content": null,
            "align_items": null,
            "align_self": null,
            "border": null,
            "bottom": null,
            "display": null,
            "flex": null,
            "flex_flow": null,
            "grid_area": null,
            "grid_auto_columns": null,
            "grid_auto_flow": null,
            "grid_auto_rows": null,
            "grid_column": null,
            "grid_gap": null,
            "grid_row": null,
            "grid_template_areas": null,
            "grid_template_columns": null,
            "grid_template_rows": null,
            "height": null,
            "justify_content": null,
            "justify_items": null,
            "left": null,
            "margin": null,
            "max_height": null,
            "max_width": null,
            "min_height": null,
            "min_width": null,
            "object_fit": null,
            "object_position": null,
            "order": null,
            "overflow": null,
            "overflow_x": null,
            "overflow_y": null,
            "padding": null,
            "right": null,
            "top": null,
            "visibility": null,
            "width": null
          }
        },
        "5d48a73fe3be4f1992af6417bb83b837": {
          "model_module": "@jupyter-widgets/controls",
          "model_name": "DescriptionStyleModel",
          "model_module_version": "1.5.0",
          "state": {
            "_model_module": "@jupyter-widgets/controls",
            "_model_module_version": "1.5.0",
            "_model_name": "DescriptionStyleModel",
            "_view_count": null,
            "_view_module": "@jupyter-widgets/base",
            "_view_module_version": "1.2.0",
            "_view_name": "StyleView",
            "description_width": ""
          }
        },
        "835fc9536dcc4643a847fa01d2764fed": {
          "model_module": "@jupyter-widgets/controls",
          "model_name": "HBoxModel",
          "model_module_version": "1.5.0",
          "state": {
            "_dom_classes": [],
            "_model_module": "@jupyter-widgets/controls",
            "_model_module_version": "1.5.0",
            "_model_name": "HBoxModel",
            "_view_count": null,
            "_view_module": "@jupyter-widgets/controls",
            "_view_module_version": "1.5.0",
            "_view_name": "HBoxView",
            "box_style": "",
            "children": [
              "IPY_MODEL_15bf53e518ef4271a0c1b9811a37e15d",
              "IPY_MODEL_34e031dbceef4d6c83f06abdb4d637f5",
              "IPY_MODEL_6945327f40de4de2b37ed53c5ff47c0c"
            ],
            "layout": "IPY_MODEL_8e2f0f809f3846d7b12049f1bcd68ec7"
          }
        },
        "15bf53e518ef4271a0c1b9811a37e15d": {
          "model_module": "@jupyter-widgets/controls",
          "model_name": "HTMLModel",
          "model_module_version": "1.5.0",
          "state": {
            "_dom_classes": [],
            "_model_module": "@jupyter-widgets/controls",
            "_model_module_version": "1.5.0",
            "_model_name": "HTMLModel",
            "_view_count": null,
            "_view_module": "@jupyter-widgets/controls",
            "_view_module_version": "1.5.0",
            "_view_name": "HTMLView",
            "description": "",
            "description_tooltip": null,
            "layout": "IPY_MODEL_b925a30fed914fb58ac4a0037fffa860",
            "placeholder": "​",
            "style": "IPY_MODEL_2f52f940d2244ac0abbe2a8a3ee37bf3",
            "value": "model.safetensors: 100%"
          }
        },
        "34e031dbceef4d6c83f06abdb4d637f5": {
          "model_module": "@jupyter-widgets/controls",
          "model_name": "FloatProgressModel",
          "model_module_version": "1.5.0",
          "state": {
            "_dom_classes": [],
            "_model_module": "@jupyter-widgets/controls",
            "_model_module_version": "1.5.0",
            "_model_name": "FloatProgressModel",
            "_view_count": null,
            "_view_module": "@jupyter-widgets/controls",
            "_view_module_version": "1.5.0",
            "_view_name": "ProgressView",
            "bar_style": "success",
            "description": "",
            "description_tooltip": null,
            "layout": "IPY_MODEL_81b7d7f1656143d3bf349bfd1a9350d3",
            "max": 440449768,
            "min": 0,
            "orientation": "horizontal",
            "style": "IPY_MODEL_a6a88fd5b1a04c92b10615a99bedafbd",
            "value": 440449768
          }
        },
        "6945327f40de4de2b37ed53c5ff47c0c": {
          "model_module": "@jupyter-widgets/controls",
          "model_name": "HTMLModel",
          "model_module_version": "1.5.0",
          "state": {
            "_dom_classes": [],
            "_model_module": "@jupyter-widgets/controls",
            "_model_module_version": "1.5.0",
            "_model_name": "HTMLModel",
            "_view_count": null,
            "_view_module": "@jupyter-widgets/controls",
            "_view_module_version": "1.5.0",
            "_view_name": "HTMLView",
            "description": "",
            "description_tooltip": null,
            "layout": "IPY_MODEL_221d81504da74de8976b634089d122d3",
            "placeholder": "​",
            "style": "IPY_MODEL_cce0a57131ef4f108d3d6835fd33af70",
            "value": " 440M/440M [00:01&lt;00:00, 230MB/s]"
          }
        },
        "8e2f0f809f3846d7b12049f1bcd68ec7": {
          "model_module": "@jupyter-widgets/base",
          "model_name": "LayoutModel",
          "model_module_version": "1.2.0",
          "state": {
            "_model_module": "@jupyter-widgets/base",
            "_model_module_version": "1.2.0",
            "_model_name": "LayoutModel",
            "_view_count": null,
            "_view_module": "@jupyter-widgets/base",
            "_view_module_version": "1.2.0",
            "_view_name": "LayoutView",
            "align_content": null,
            "align_items": null,
            "align_self": null,
            "border": null,
            "bottom": null,
            "display": null,
            "flex": null,
            "flex_flow": null,
            "grid_area": null,
            "grid_auto_columns": null,
            "grid_auto_flow": null,
            "grid_auto_rows": null,
            "grid_column": null,
            "grid_gap": null,
            "grid_row": null,
            "grid_template_areas": null,
            "grid_template_columns": null,
            "grid_template_rows": null,
            "height": null,
            "justify_content": null,
            "justify_items": null,
            "left": null,
            "margin": null,
            "max_height": null,
            "max_width": null,
            "min_height": null,
            "min_width": null,
            "object_fit": null,
            "object_position": null,
            "order": null,
            "overflow": null,
            "overflow_x": null,
            "overflow_y": null,
            "padding": null,
            "right": null,
            "top": null,
            "visibility": null,
            "width": null
          }
        },
        "b925a30fed914fb58ac4a0037fffa860": {
          "model_module": "@jupyter-widgets/base",
          "model_name": "LayoutModel",
          "model_module_version": "1.2.0",
          "state": {
            "_model_module": "@jupyter-widgets/base",
            "_model_module_version": "1.2.0",
            "_model_name": "LayoutModel",
            "_view_count": null,
            "_view_module": "@jupyter-widgets/base",
            "_view_module_version": "1.2.0",
            "_view_name": "LayoutView",
            "align_content": null,
            "align_items": null,
            "align_self": null,
            "border": null,
            "bottom": null,
            "display": null,
            "flex": null,
            "flex_flow": null,
            "grid_area": null,
            "grid_auto_columns": null,
            "grid_auto_flow": null,
            "grid_auto_rows": null,
            "grid_column": null,
            "grid_gap": null,
            "grid_row": null,
            "grid_template_areas": null,
            "grid_template_columns": null,
            "grid_template_rows": null,
            "height": null,
            "justify_content": null,
            "justify_items": null,
            "left": null,
            "margin": null,
            "max_height": null,
            "max_width": null,
            "min_height": null,
            "min_width": null,
            "object_fit": null,
            "object_position": null,
            "order": null,
            "overflow": null,
            "overflow_x": null,
            "overflow_y": null,
            "padding": null,
            "right": null,
            "top": null,
            "visibility": null,
            "width": null
          }
        },
        "2f52f940d2244ac0abbe2a8a3ee37bf3": {
          "model_module": "@jupyter-widgets/controls",
          "model_name": "DescriptionStyleModel",
          "model_module_version": "1.5.0",
          "state": {
            "_model_module": "@jupyter-widgets/controls",
            "_model_module_version": "1.5.0",
            "_model_name": "DescriptionStyleModel",
            "_view_count": null,
            "_view_module": "@jupyter-widgets/base",
            "_view_module_version": "1.2.0",
            "_view_name": "StyleView",
            "description_width": ""
          }
        },
        "81b7d7f1656143d3bf349bfd1a9350d3": {
          "model_module": "@jupyter-widgets/base",
          "model_name": "LayoutModel",
          "model_module_version": "1.2.0",
          "state": {
            "_model_module": "@jupyter-widgets/base",
            "_model_module_version": "1.2.0",
            "_model_name": "LayoutModel",
            "_view_count": null,
            "_view_module": "@jupyter-widgets/base",
            "_view_module_version": "1.2.0",
            "_view_name": "LayoutView",
            "align_content": null,
            "align_items": null,
            "align_self": null,
            "border": null,
            "bottom": null,
            "display": null,
            "flex": null,
            "flex_flow": null,
            "grid_area": null,
            "grid_auto_columns": null,
            "grid_auto_flow": null,
            "grid_auto_rows": null,
            "grid_column": null,
            "grid_gap": null,
            "grid_row": null,
            "grid_template_areas": null,
            "grid_template_columns": null,
            "grid_template_rows": null,
            "height": null,
            "justify_content": null,
            "justify_items": null,
            "left": null,
            "margin": null,
            "max_height": null,
            "max_width": null,
            "min_height": null,
            "min_width": null,
            "object_fit": null,
            "object_position": null,
            "order": null,
            "overflow": null,
            "overflow_x": null,
            "overflow_y": null,
            "padding": null,
            "right": null,
            "top": null,
            "visibility": null,
            "width": null
          }
        },
        "a6a88fd5b1a04c92b10615a99bedafbd": {
          "model_module": "@jupyter-widgets/controls",
          "model_name": "ProgressStyleModel",
          "model_module_version": "1.5.0",
          "state": {
            "_model_module": "@jupyter-widgets/controls",
            "_model_module_version": "1.5.0",
            "_model_name": "ProgressStyleModel",
            "_view_count": null,
            "_view_module": "@jupyter-widgets/base",
            "_view_module_version": "1.2.0",
            "_view_name": "StyleView",
            "bar_color": null,
            "description_width": ""
          }
        },
        "221d81504da74de8976b634089d122d3": {
          "model_module": "@jupyter-widgets/base",
          "model_name": "LayoutModel",
          "model_module_version": "1.2.0",
          "state": {
            "_model_module": "@jupyter-widgets/base",
            "_model_module_version": "1.2.0",
            "_model_name": "LayoutModel",
            "_view_count": null,
            "_view_module": "@jupyter-widgets/base",
            "_view_module_version": "1.2.0",
            "_view_name": "LayoutView",
            "align_content": null,
            "align_items": null,
            "align_self": null,
            "border": null,
            "bottom": null,
            "display": null,
            "flex": null,
            "flex_flow": null,
            "grid_area": null,
            "grid_auto_columns": null,
            "grid_auto_flow": null,
            "grid_auto_rows": null,
            "grid_column": null,
            "grid_gap": null,
            "grid_row": null,
            "grid_template_areas": null,
            "grid_template_columns": null,
            "grid_template_rows": null,
            "height": null,
            "justify_content": null,
            "justify_items": null,
            "left": null,
            "margin": null,
            "max_height": null,
            "max_width": null,
            "min_height": null,
            "min_width": null,
            "object_fit": null,
            "object_position": null,
            "order": null,
            "overflow": null,
            "overflow_x": null,
            "overflow_y": null,
            "padding": null,
            "right": null,
            "top": null,
            "visibility": null,
            "width": null
          }
        },
        "cce0a57131ef4f108d3d6835fd33af70": {
          "model_module": "@jupyter-widgets/controls",
          "model_name": "DescriptionStyleModel",
          "model_module_version": "1.5.0",
          "state": {
            "_model_module": "@jupyter-widgets/controls",
            "_model_module_version": "1.5.0",
            "_model_name": "DescriptionStyleModel",
            "_view_count": null,
            "_view_module": "@jupyter-widgets/base",
            "_view_module_version": "1.2.0",
            "_view_name": "StyleView",
            "description_width": ""
          }
        }
      }
    },
    "accelerator": "GPU"
  },
  "cells": [
    {
      "cell_type": "code",
      "execution_count": null,
      "metadata": {
        "colab": {
          "base_uri": "https://localhost:8080/"
        },
        "id": "CyvnmqJdEpge",
        "outputId": "805a063d-6feb-4b36-b03f-c866db5e9f2a"
      },
      "outputs": [
        {
          "output_type": "stream",
          "name": "stdout",
          "text": [
            "Mounted at /content/drive/\n"
          ]
        }
      ],
      "source": [
        "# file management\n",
        "import sys\n",
        "import shutil\n",
        "import urllib\n",
        "import tarfile\n",
        "import zipfile\n",
        "from pathlib import Path\n",
        "from copy import deepcopy\n",
        "import pickle\n",
        "\n",
        "import os\n",
        "\n",
        "# dataframe management\n",
        "import pandas as pd\n",
        "\n",
        "# data manipulation\n",
        "import numpy as np\n",
        "\n",
        "# for readability\n",
        "from typing import Iterable\n",
        "from tqdm.notebook import tqdm, tnrange\n",
        "\n",
        "\n",
        "import transformers\n",
        "import torch\n",
        "from torch.utils.data import Dataset, DataLoader, RandomSampler, SequentialSampler\n",
        "from transformers import BertTokenizer, BertModel, BertConfig\n",
        "from sklearn import metrics\n",
        "from sklearn.model_selection import train_test_split\n",
        "import matplotlib.pyplot as plt\n",
        "# from google.colab import drive\n",
        "# drive.mount(\"/content/drive/\")"
      ]
    },
    {
      "cell_type": "code",
      "source": [
        "class DownloadProgressBar(tqdm):\n",
        "    def update_to(self, b=1, bsize=1, tsize=None):\n",
        "        if tsize is not None:\n",
        "            self.total = tsize\n",
        "        self.update(b * bsize - self.n)\n",
        "\n",
        "def download_url(download_path: Path, url: str):\n",
        "    with DownloadProgressBar(unit='B', unit_scale=True,\n",
        "                             miniters=1, desc=url.split('/')[-1]) as t:\n",
        "        urllib.request.urlretrieve(url, filename=download_path, reporthook=t.update_to)\n",
        "\n",
        "\n",
        "def download_dataset(download_path: Path, url: str):\n",
        "    print(\"Downloading dataset...\")\n",
        "    download_url(url=url, download_path=download_path)\n",
        "    print(\"Download complete!\")\n",
        "\n",
        "def extract_dataset(download_path: Path, extract_path: Path, mode=\"tar\"):\n",
        "    print(\"Extracting dataset... (it may take a while...)\")\n",
        "    if mode == \"tar\":\n",
        "      with tarfile.open(download_path) as loaded_tar:\n",
        "        loaded_tar.extractall(extract_path)\n",
        "    elif mode == \"zip\":\n",
        "      with zipfile.ZipFile(download_path, 'r') as zip_ref:\n",
        "        zip_ref.extractall(extract_path)\n",
        "\n",
        "    print(\"Extraction completed!\")"
      ],
      "metadata": {
        "id": "qzNTq9ye9Rkn",
        "execution": {
          "iopub.status.busy": "2024-02-08T00:34:22.246397Z",
          "iopub.execute_input": "2024-02-08T00:34:22.247098Z",
          "iopub.status.idle": "2024-02-08T00:34:22.257418Z",
          "shell.execute_reply.started": "2024-02-08T00:34:22.247065Z",
          "shell.execute_reply": "2024-02-08T00:34:22.256208Z"
        },
        "trusted": true
      },
      "execution_count": null,
      "outputs": []
    },
    {
      "cell_type": "code",
      "source": [
        "train_url = \"https://drive.usercontent.google.com/download?id=1wVNU2XvvhqjaGXZM-JLJwOt97gt4g9j2&export=download&authuser=0&confirm=t&uuid=9004532d-1162-47b2-985c-492039597222&at=APZUnTWm8D1ZM5_aa68vV6nRf9FA:1705400593770\"\n",
        "train_dataset_name = \"EFR_train_dataset.json\"\n",
        "\n",
        "print(f\"Current work directory: {Path.cwd()}\")\n",
        "dataset_folder = Path.cwd().joinpath(\"Datasets\")\n",
        "\n",
        "if not dataset_folder.exists():\n",
        "    dataset_folder.mkdir(parents=True)\n",
        "\n",
        "train_dataset_json_path = dataset_folder.joinpath(train_dataset_name)\n",
        "\n",
        "if not train_dataset_json_path.exists():\n",
        "    download_dataset(train_dataset_json_path, train_url)"
      ],
      "metadata": {
        "colab": {
          "base_uri": "https://localhost:8080/",
          "referenced_widgets": [
            "d419472ef9de447789fd6ea7273d507b",
            "db33066dd6844081b58f36f370df141a",
            "c89c32b5e832438693caff34ebb20f61",
            "d5f1d6b2f96141af94f8343254789ed0",
            "68741f6f67674ec18c0ce0d3c9b88ccc",
            "f24f61ca9d094b439280b50e17e7880a",
            "8286f81307c44132b9c0e821b51974e7",
            "87f6553d74274352b389db7387598426",
            "7eeae43fc2444bf5a1876d4605cb38b8",
            "a595fbda09f249b9b74c36025a08978b",
            "f0621763f3f64a40964216d2be681db0"
          ],
          "height": 101
        },
        "id": "M162Dn7e9BuK",
        "outputId": "800ecc69-37ba-4423-de99-a7629526fa4c",
        "execution": {
          "iopub.status.busy": "2024-02-08T00:34:23.563500Z",
          "iopub.execute_input": "2024-02-08T00:34:23.564402Z",
          "iopub.status.idle": "2024-02-08T00:34:26.940705Z",
          "shell.execute_reply.started": "2024-02-08T00:34:23.564366Z",
          "shell.execute_reply": "2024-02-08T00:34:26.939708Z"
        },
        "trusted": true
      },
      "execution_count": null,
      "outputs": [
        {
          "output_type": "stream",
          "name": "stdout",
          "text": [
            "Current work directory: /content\n",
            "Downloading dataset...\n"
          ]
        },
        {
          "output_type": "display_data",
          "data": {
            "text/plain": [
              "download?id=1wVNU2XvvhqjaGXZM-JLJwOt97gt4g9j2&export=download&authuser=0&confirm=t&uuid=9004532d-1162-47b2-985…"
            ],
            "application/vnd.jupyter.widget-view+json": {
              "version_major": 2,
              "version_minor": 0,
              "model_id": "d419472ef9de447789fd6ea7273d507b"
            }
          },
          "metadata": {}
        },
        {
          "output_type": "stream",
          "name": "stdout",
          "text": [
            "Download complete!\n"
          ]
        }
      ]
    },
    {
      "cell_type": "code",
      "source": [
        "global_df = pd.read_json(train_dataset_json_path)"
      ],
      "metadata": {
        "id": "bdB6ele89MqA",
        "execution": {
          "iopub.status.busy": "2024-02-08T00:34:26.942295Z",
          "iopub.execute_input": "2024-02-08T00:34:26.942607Z",
          "iopub.status.idle": "2024-02-08T00:34:27.052097Z",
          "shell.execute_reply.started": "2024-02-08T00:34:26.942579Z",
          "shell.execute_reply": "2024-02-08T00:34:27.051045Z"
        },
        "trusted": true
      },
      "execution_count": null,
      "outputs": []
    },
    {
      "cell_type": "code",
      "source": [
        "# Replaces NaN values by 0 in lists of given row\n",
        "def remove_nan(row):\n",
        "    return [0 if pd.isna(x) else x for x in row]\n",
        "\n",
        "# Checks that there are no NaN values in lists of given row\n",
        "def nan_free(column):\n",
        "    return all(all(pd.notna(x) for x in row) for row in column)\n",
        "\n",
        "global_df['triggers'] = global_df['triggers'].apply(remove_nan)\n",
        "nan_free(global_df['triggers'])"
      ],
      "metadata": {
        "id": "v_Fpw6ok9ng6",
        "execution": {
          "iopub.status.busy": "2024-02-08T00:34:28.901757Z",
          "iopub.execute_input": "2024-02-08T00:34:28.902407Z",
          "iopub.status.idle": "2024-02-08T00:34:28.977829Z",
          "shell.execute_reply.started": "2024-02-08T00:34:28.902370Z",
          "shell.execute_reply": "2024-02-08T00:34:28.976898Z"
        },
        "trusted": true,
        "colab": {
          "base_uri": "https://localhost:8080/"
        },
        "outputId": "98c952de-b210-46cc-9a30-969e71a44225"
      },
      "execution_count": null,
      "outputs": [
        {
          "output_type": "execute_result",
          "data": {
            "text/plain": [
              "True"
            ]
          },
          "metadata": {},
          "execution_count": 5
        }
      ]
    },
    {
      "cell_type": "code",
      "source": [
        "# Assigns 80% of data to training set, without shuffling\n",
        "train_df, test_df = train_test_split(global_df, test_size=0.2, shuffle=False)\n",
        "\n",
        "# Assigns remaining 20% of data to test and validation set, without shuffling\n",
        "test_df, eval_df = train_test_split(test_df, test_size=0.5, shuffle=False)"
      ],
      "metadata": {
        "id": "hbRa4w4HAwQm",
        "execution": {
          "iopub.status.busy": "2024-02-08T00:34:34.874964Z",
          "iopub.execute_input": "2024-02-08T00:34:34.875619Z",
          "iopub.status.idle": "2024-02-08T00:34:34.888484Z",
          "shell.execute_reply.started": "2024-02-08T00:34:34.875589Z",
          "shell.execute_reply": "2024-02-08T00:34:34.887441Z"
        },
        "trusted": true
      },
      "execution_count": null,
      "outputs": []
    },
    {
      "cell_type": "code",
      "source": [
        "print(len(train_df))\n",
        "print(len(test_df))\n",
        "print(len(eval_df))"
      ],
      "metadata": {
        "id": "EQ4QOjUnDp-R",
        "execution": {
          "iopub.status.busy": "2024-02-08T00:34:35.582729Z",
          "iopub.execute_input": "2024-02-08T00:34:35.583550Z",
          "iopub.status.idle": "2024-02-08T00:34:35.588632Z",
          "shell.execute_reply.started": "2024-02-08T00:34:35.583515Z",
          "shell.execute_reply": "2024-02-08T00:34:35.587479Z"
        },
        "trusted": true,
        "colab": {
          "base_uri": "https://localhost:8080/"
        },
        "outputId": "77aae065-b475-4cfc-8fa2-7a2fe263c9e6"
      },
      "execution_count": null,
      "outputs": [
        {
          "output_type": "stream",
          "name": "stdout",
          "text": [
            "3200\n",
            "400\n",
            "400\n"
          ]
        }
      ]
    },
    {
      "cell_type": "code",
      "source": [
        "device = torch.device('cpu')\n",
        "if torch.cuda.is_available():\n",
        "  device = torch.device('cuda')"
      ],
      "metadata": {
        "id": "HyGNVtDLF_gP"
      },
      "execution_count": null,
      "outputs": []
    },
    {
      "cell_type": "markdown",
      "source": [
        "### Preparing Data to be use in the Model\n"
      ],
      "metadata": {
        "id": "Y9D3fVqqGLwl"
      }
    },
    {
      "cell_type": "code",
      "source": [
        "from sklearn.preprocessing import LabelEncoder\n",
        "from torch.utils.data import TensorDataset, DataLoader, RandomSampler, SequentialSampler\n",
        "from transformers import AutoTokenizer"
      ],
      "metadata": {
        "id": "znvsdQCGFSDD"
      },
      "execution_count": null,
      "outputs": []
    },
    {
      "cell_type": "code",
      "source": [
        "tokenizer = AutoTokenizer.from_pretrained(\"bert-base-uncased\")"
      ],
      "metadata": {
        "id": "l5SYVawDGBlD",
        "colab": {
          "base_uri": "https://localhost:8080/",
          "height": 249,
          "referenced_widgets": [
            "4cf8b67a38b543618351fdbbda39129f",
            "66e03db677994d0ca172314d659c1836",
            "d80f7682293241f9b768493b7f17ed02",
            "8cbf9d9da7374c118aa733f80a27fa20",
            "175f8e7cf75949f08df1245657d52067",
            "87e786b802c94350b199f991df301533",
            "ba94a5185bc74941ae8a320e146b48d0",
            "fe097b3c1d414afd89e6942d6e2925ea",
            "9b0e9225a15e4ddcb60c52f145ad92ce",
            "eb24bc9e8833422db22dde5d59dec32a",
            "e079622b613a4ab38d02842f555fa956",
            "93e5be2a2a2e41aa883eef5802eb96ec",
            "32a967c5e3cd4ccfaa289660eed8799d",
            "892a3cc71daf4f61979e07b83b6fe839",
            "547dc7fab0bc4148b1e6b1815623952d",
            "65d21a79a1094befa830746ef8d164c8",
            "6be7b1fa1de04296ba0356cff2f7c752",
            "96e1b34d836746a9bb455697eb284046",
            "f94a9e0017f94de58e15e45df612d182",
            "6ac6135745da4019a3e95a1fcda16033",
            "4e887dff70d3452783944b2001ffeb51",
            "805eebe88fb2404a940204100017aa2d",
            "5acdda8423734739ac8099cca89672b8",
            "f444db9e19564441b095863025bc27a5",
            "3edc89a1ddc74a5ebf4cecaf432e3af4",
            "156b5ce41c1c4dd39e2292c71c696d17",
            "a339309212c648d1a3d3ef2fbfbf8ab5",
            "bd168718b44c45fa8e65fb225f215ef6",
            "290422b6c1aa4f7b9ab1435e75fdc01f",
            "3de6003ad5ad48d7bf79ef19d3e43d8d",
            "160eb51bfb48487d9f7bb17b659fbe8c",
            "142bc896505740368e2b4580927b1cfe",
            "3e393bdde6e243bd96dede9f0d19fe00",
            "5c94a7fb9fba41289160c198752bbae7",
            "732f59a12c84453dbf1df8044ce62a2a",
            "98d4b3522efa461dbe01b638754b4e4a",
            "28f936abd2d141dc9b088fd708164cbb",
            "7b905a42685e4169bce0ddb51cad7842",
            "adbadf2cc73d4db292a10a5477d16bb1",
            "4fd1a7cd05d4447f8a48f2b431560c75",
            "8fed8820cd3c42ebadd8d2832bbfda51",
            "92f22866836f4cd1ba89f054d0bb4900",
            "311bded9155d4aadb407edf2e94d9c1b",
            "5d48a73fe3be4f1992af6417bb83b837"
          ]
        },
        "outputId": "1e4a2876-3ac1-49e7-dfda-09b7843cb139"
      },
      "execution_count": null,
      "outputs": [
        {
          "output_type": "stream",
          "name": "stderr",
          "text": [
            "/usr/local/lib/python3.10/dist-packages/huggingface_hub/utils/_token.py:88: UserWarning: \n",
            "The secret `HF_TOKEN` does not exist in your Colab secrets.\n",
            "To authenticate with the Hugging Face Hub, create a token in your settings tab (https://huggingface.co/settings/tokens), set it as secret in your Google Colab and restart your session.\n",
            "You will be able to reuse this secret in all of your notebooks.\n",
            "Please note that authentication is recommended but still optional to access public models or datasets.\n",
            "  warnings.warn(\n"
          ]
        },
        {
          "output_type": "display_data",
          "data": {
            "text/plain": [
              "tokenizer_config.json:   0%|          | 0.00/28.0 [00:00<?, ?B/s]"
            ],
            "application/vnd.jupyter.widget-view+json": {
              "version_major": 2,
              "version_minor": 0,
              "model_id": "4cf8b67a38b543618351fdbbda39129f"
            }
          },
          "metadata": {}
        },
        {
          "output_type": "display_data",
          "data": {
            "text/plain": [
              "config.json:   0%|          | 0.00/570 [00:00<?, ?B/s]"
            ],
            "application/vnd.jupyter.widget-view+json": {
              "version_major": 2,
              "version_minor": 0,
              "model_id": "93e5be2a2a2e41aa883eef5802eb96ec"
            }
          },
          "metadata": {}
        },
        {
          "output_type": "display_data",
          "data": {
            "text/plain": [
              "vocab.txt:   0%|          | 0.00/232k [00:00<?, ?B/s]"
            ],
            "application/vnd.jupyter.widget-view+json": {
              "version_major": 2,
              "version_minor": 0,
              "model_id": "5acdda8423734739ac8099cca89672b8"
            }
          },
          "metadata": {}
        },
        {
          "output_type": "display_data",
          "data": {
            "text/plain": [
              "tokenizer.json:   0%|          | 0.00/466k [00:00<?, ?B/s]"
            ],
            "application/vnd.jupyter.widget-view+json": {
              "version_major": 2,
              "version_minor": 0,
              "model_id": "5c94a7fb9fba41289160c198752bbae7"
            }
          },
          "metadata": {}
        }
      ]
    },
    {
      "cell_type": "markdown",
      "source": [
        "*   Dialogue flattening"
      ],
      "metadata": {
        "id": "GDhOY7hyGvE5"
      }
    },
    {
      "cell_type": "code",
      "source": [
        "erc_train_utterances = [u for row in train_df.utterances for u in row]\n",
        "erc_train_emotions = [e for row in train_df.emotions for e in row]\n",
        "\n",
        "erc_eval_utterances = [u for row in eval_df.utterances for u in row]\n",
        "erc_eval_emotions = [e for row in eval_df.emotions for e in row]\n",
        "\n",
        "erc_test_utterances = [u for row in test_df.utterances for u in row]\n",
        "erc_test_emotions = [e for row in test_df.emotions for e in row]"
      ],
      "metadata": {
        "id": "kVFAUt26FL8M"
      },
      "execution_count": null,
      "outputs": []
    },
    {
      "cell_type": "markdown",
      "source": [
        "*   Emotion label encoding to numerical values"
      ],
      "metadata": {
        "id": "sL1MfLO2GtHU"
      }
    },
    {
      "cell_type": "code",
      "source": [
        "labelencoder = LabelEncoder()\n",
        "\n",
        "erc_train_encoded_emotions = labelencoder.fit_transform(erc_train_emotions)\n",
        "print(labelencoder.inverse_transform([0, 1, 2, 3, 4, 5, 6]))\n",
        "erc_eval_encoded_emotions = labelencoder.fit_transform(erc_eval_emotions)\n",
        "print(labelencoder.inverse_transform([0, 1, 2, 3, 4, 5, 6]))\n",
        "erc_test_encoded_emotions = labelencoder.fit_transform(erc_test_emotions)\n",
        "print(labelencoder.inverse_transform([0, 1, 2, 3, 4, 5, 6]))\n",
        "\n",
        "np.unique(erc_train_encoded_emotions)"
      ],
      "metadata": {
        "id": "5PSjP2OAGtwe",
        "colab": {
          "base_uri": "https://localhost:8080/"
        },
        "outputId": "fb952b75-e4e5-46f7-e2e6-9f9860e35530"
      },
      "execution_count": null,
      "outputs": [
        {
          "output_type": "stream",
          "name": "stdout",
          "text": [
            "['anger' 'disgust' 'fear' 'joy' 'neutral' 'sadness' 'surprise']\n",
            "['anger' 'disgust' 'fear' 'joy' 'neutral' 'sadness' 'surprise']\n",
            "['anger' 'disgust' 'fear' 'joy' 'neutral' 'sadness' 'surprise']\n"
          ]
        },
        {
          "output_type": "execute_result",
          "data": {
            "text/plain": [
              "array([0, 1, 2, 3, 4, 5, 6])"
            ]
          },
          "metadata": {},
          "execution_count": 14
        }
      ]
    },
    {
      "cell_type": "markdown",
      "source": [
        "*   Utterance tokenization"
      ],
      "metadata": {
        "id": "IOd7EXjuHDC9"
      }
    },
    {
      "cell_type": "code",
      "source": [
        "erc_max_len = 100\n",
        "\n",
        "erc_train_input_ids = [tokenizer.encode(u, add_special_tokens=True, max_length=erc_max_len, padding='max_length') for u in erc_train_utterances]\n",
        "erc_eval_input_ids = [tokenizer.encode(u, add_special_tokens=True, max_length=erc_max_len, padding='max_length') for u in erc_eval_utterances]\n",
        "erc_test_input_ids = [tokenizer.encode(u, add_special_tokens=True, max_length=erc_max_len, padding='max_length') for u in erc_test_utterances]\n",
        "\n",
        "## Create attention mask\n",
        "erc_train_attention_masks = []\n",
        "erc_eval_attention_masks = []\n",
        "erc_test_attention_masks = []\n",
        "## Create a mask of 1 for all input tokens and 0 for all padding tokens\n",
        "erc_train_attention_masks = [[float(i>0) for i in seq] for seq in erc_train_input_ids]\n",
        "erc_eval_attention_masks = [[float(i>0) for i in seq] for seq in erc_eval_input_ids]\n",
        "erc_test_attention_masks = [[float(i>0) for i in seq] for seq in erc_test_input_ids]"
      ],
      "metadata": {
        "id": "TamiJLaYFln1"
      },
      "execution_count": null,
      "outputs": []
    },
    {
      "cell_type": "markdown",
      "source": [
        "*   Creating DataLoaders"
      ],
      "metadata": {
        "id": "rG4I3U1mHGip"
      }
    },
    {
      "cell_type": "code",
      "source": [
        "batch_size = 32\n",
        "erc_train_data = TensorDataset(torch.tensor(erc_train_input_ids), torch.tensor(erc_train_attention_masks), torch.tensor(erc_train_encoded_emotions))\n",
        "erc_train_sampler = RandomSampler(erc_train_data)\n",
        "erc_train_dataloader = DataLoader(erc_train_data,sampler=erc_train_sampler,batch_size=batch_size)\n",
        "\n",
        "erc_eval_data = TensorDataset(torch.tensor(erc_eval_input_ids), torch.tensor(erc_eval_attention_masks), torch.tensor(erc_eval_encoded_emotions))\n",
        "erc_eval_sampler = RandomSampler(erc_eval_data)\n",
        "erc_eval_dataloader = DataLoader(erc_eval_data,sampler=erc_eval_sampler,batch_size=batch_size)"
      ],
      "metadata": {
        "id": "Gtt1HSuQFqPa"
      },
      "execution_count": null,
      "outputs": []
    },
    {
      "cell_type": "code",
      "source": [
        "erc_test_data = TensorDataset(torch.tensor(erc_test_input_ids), torch.tensor(erc_test_attention_masks), torch.tensor(erc_test_encoded_emotions))\n",
        "erc_test_sampler = RandomSampler(erc_test_data)\n",
        "erc_test_dataloader = DataLoader(erc_test_data,sampler=erc_test_sampler,batch_size=batch_size)"
      ],
      "metadata": {
        "id": "8qMJu4RhFsr8"
      },
      "execution_count": null,
      "outputs": []
    },
    {
      "cell_type": "markdown",
      "source": [
        "### Model definition"
      ],
      "metadata": {
        "id": "FT7ScUpuHMYY"
      }
    },
    {
      "cell_type": "code",
      "source": [
        "import torch\n",
        "from torch import nn\n",
        "from transformers import BertModel"
      ],
      "metadata": {
        "id": "MAaSvwG4HT9x"
      },
      "execution_count": null,
      "outputs": []
    },
    {
      "cell_type": "code",
      "source": [
        "# to save models\n",
        "!mkdir Models"
      ],
      "metadata": {
        "id": "kVkhQvFFacNw"
      },
      "execution_count": null,
      "outputs": []
    },
    {
      "cell_type": "code",
      "source": [
        "class BertERCModel(nn.Module):\n",
        "  def __init__(self, output_size):\n",
        "    super(BertERCModel, self).__init__()\n",
        "\n",
        "    self.bert = BertModel.from_pretrained('bert-base-uncased', return_dict=True)\n",
        "    self.drop = nn.Dropout(0.3)\n",
        "    self.linear = nn.Linear(self.bert.config.hidden_size, output_size)\n",
        "\n",
        "  def forward(self, input_ids, attention_mask):\n",
        "    out1 = self.bert(input_ids=input_ids, attention_mask=attention_mask)\n",
        "    out2 = self.drop(out1.pooler_output)\n",
        "    output = self.linear(out2)\n",
        "\n",
        "    return output, out1.pooler_output\n",
        "erc_model = BertERCModel(7).to(device)"
      ],
      "metadata": {
        "id": "-UGO8FdoGHJQ",
        "colab": {
          "base_uri": "https://localhost:8080/",
          "height": 49,
          "referenced_widgets": [
            "835fc9536dcc4643a847fa01d2764fed",
            "15bf53e518ef4271a0c1b9811a37e15d",
            "34e031dbceef4d6c83f06abdb4d637f5",
            "6945327f40de4de2b37ed53c5ff47c0c",
            "8e2f0f809f3846d7b12049f1bcd68ec7",
            "b925a30fed914fb58ac4a0037fffa860",
            "2f52f940d2244ac0abbe2a8a3ee37bf3",
            "81b7d7f1656143d3bf349bfd1a9350d3",
            "a6a88fd5b1a04c92b10615a99bedafbd",
            "221d81504da74de8976b634089d122d3",
            "cce0a57131ef4f108d3d6835fd33af70"
          ]
        },
        "outputId": "a16a42b8-f336-4927-b524-b74944e687d0"
      },
      "execution_count": null,
      "outputs": [
        {
          "output_type": "display_data",
          "data": {
            "text/plain": [
              "model.safetensors:   0%|          | 0.00/440M [00:00<?, ?B/s]"
            ],
            "application/vnd.jupyter.widget-view+json": {
              "version_major": 2,
              "version_minor": 0,
              "model_id": "835fc9536dcc4643a847fa01d2764fed"
            }
          },
          "metadata": {}
        }
      ]
    },
    {
      "cell_type": "markdown",
      "source": [
        "### Metrics"
      ],
      "metadata": {
        "id": "gKzeLZCGJes5"
      }
    },
    {
      "cell_type": "code",
      "source": [
        "from sklearn.metrics import f1_score"
      ],
      "metadata": {
        "id": "ZsxY3sl8J4BT"
      },
      "execution_count": null,
      "outputs": []
    },
    {
      "cell_type": "code",
      "source": [
        "def compute_metrics(true_labels, preds):\n",
        "  macro_f1 = f1_score(preds, true_labels, average='macro')\n",
        "\n",
        "  return macro_f1"
      ],
      "metadata": {
        "id": "Y8dTpShpJgyl"
      },
      "execution_count": null,
      "outputs": []
    },
    {
      "cell_type": "markdown",
      "source": [
        "### Training"
      ],
      "metadata": {
        "id": "Gy2a2PuVHrWF"
      }
    },
    {
      "cell_type": "code",
      "source": [
        "from sklearn.metrics import accuracy_score, matthews_corrcoef"
      ],
      "metadata": {
        "id": "XG6jhh2zH2Yk"
      },
      "execution_count": null,
      "outputs": []
    },
    {
      "cell_type": "code",
      "source": [
        "erc_lr = 2e-5\n",
        "erc_adam_epsilon = 1e-8\n",
        "\n",
        "best_erc_path = 'Models/erc_model.pt'\n",
        "\n",
        "def erc_loss_fn(outputs, targets):\n",
        "    return torch.nn.CrossEntropyLoss()(outputs, targets)\n",
        "\n",
        "erc_epochs = 3"
      ],
      "metadata": {
        "id": "A-onTFexHt4Z"
      },
      "execution_count": null,
      "outputs": []
    },
    {
      "cell_type": "code",
      "source": [
        "def train_erc(erc_model, erc_optimizer):\n",
        "\n",
        "  min_val_loss = np.Inf\n",
        "  train_loss_set = []\n",
        "  learning_rate = []\n",
        "\n",
        "  # Gradients gets accumulated by default\n",
        "  erc_model.zero_grad()\n",
        "\n",
        "  # tnrange is a tqdm wrapper around the normal python range\n",
        "  for _ in tnrange(1,erc_epochs+1,desc='Epoch'):\n",
        "    print(\"<\" + \"=\"*22 + F\" Epoch {_} \"+ \"=\"*22 + \">\")\n",
        "    # Calculate total loss for this epoch\n",
        "    batch_loss = 0\n",
        "\n",
        "    for step, batch in enumerate(erc_train_dataloader):\n",
        "      erc_model.train()\n",
        "\n",
        "      batch = tuple(t.to(device) for t in batch)\n",
        "\n",
        "      b_input_ids, b_input_mask, b_labels = batch\n",
        "\n",
        "      outputs = erc_model(b_input_ids, attention_mask=b_input_mask)\n",
        "      loss = erc_loss_fn(outputs[0], b_labels)\n",
        "\n",
        "      loss.backward()\n",
        "\n",
        "      # Clip the norm of the gradients to 1.0 bc gradient clipping is not in AdamW anymore\n",
        "      torch.nn.utils.clip_grad_norm_(erc_model.parameters(), 1.0)\n",
        "\n",
        "      erc_optimizer.step()\n",
        "      erc_optimizer.zero_grad()\n",
        "\n",
        "      batch_loss += loss.item()\n",
        "\n",
        "    # Calculate the average loss over the training data.\n",
        "    avg_train_loss = batch_loss / len(erc_train_dataloader)\n",
        "\n",
        "    train_loss_set.append(avg_train_loss)\n",
        "    print(F'\\n\\tAverage Training loss: {avg_train_loss}')\n",
        "\n",
        "    # Validation\n",
        "    erc_model.eval()\n",
        "\n",
        "    # Tracking variables\n",
        "    eval_accuracy, eval_mcc_accuracy, nb_eval_steps = 0, 0, 0\n",
        "\n",
        "    for batch in erc_eval_dataloader:\n",
        "\n",
        "      batch = tuple(t.to(device) for t in batch)\n",
        "      b_input_ids, b_input_mask, b_labels = batch\n",
        "\n",
        "      with torch.no_grad():\n",
        "        outputs = erc_model(b_input_ids, attention_mask=b_input_mask)\n",
        "\n",
        "      logits = outputs[0].to('cpu').numpy()\n",
        "      label_ids = b_labels.to('cpu').numpy()\n",
        "      loss = erc_loss_fn(outputs[0], b_labels)\n",
        "\n",
        "      batch_loss += loss.item()\n",
        "\n",
        "      pred_flat = np.argmax(logits, axis=1).flatten()\n",
        "      labels_flat = label_ids.flatten()\n",
        "\n",
        "      df_metrics = pd.DataFrame({'Epoch': erc_epochs,'Actual_class': labels_flat,'Predicted_class': pred_flat})\n",
        "\n",
        "      tmp_eval_accuracy = accuracy_score(labels_flat,pred_flat)\n",
        "      tmp_eval_mcc_accuracy = matthews_corrcoef(labels_flat, pred_flat)\n",
        "\n",
        "      eval_accuracy += tmp_eval_accuracy\n",
        "      eval_mcc_accuracy += tmp_eval_mcc_accuracy\n",
        "      nb_eval_steps += 1\n",
        "\n",
        "    avg_eval_loss = batch_loss / len(erc_eval_dataloader)\n",
        "\n",
        "    print(F'\\n\\tValidation Accuracy: {eval_accuracy/nb_eval_steps}')\n",
        "    print(F'\\n\\tValidation MCC Accuracy: {eval_mcc_accuracy/nb_eval_steps}')\n",
        "\n",
        "  return erc_model"
      ],
      "metadata": {
        "id": "Rg7UCXnNHzi6"
      },
      "execution_count": null,
      "outputs": []
    },
    {
      "cell_type": "markdown",
      "source": [
        "### Pipeline"
      ],
      "metadata": {
        "id": "Lt0rquZZLqJb"
      }
    },
    {
      "cell_type": "code",
      "source": [
        "def make_erc_preds(model, test_loader):\n",
        "  output_preds = []\n",
        "  true_labels = []\n",
        "  model.eval()\n",
        "  for batch in test_loader:\n",
        "    batch = tuple(t.to(device) for t in batch)\n",
        "    b_input_ids, b_input_mask, b_labels = batch\n",
        "\n",
        "    with torch.no_grad():\n",
        "      logits = model(b_input_ids, attention_mask=b_input_mask)\n",
        "    logits = logits[0].to('cpu').numpy()\n",
        "    label_ids = b_labels.to('cpu').numpy()\n",
        "\n",
        "    output_preds.extend(logits)\n",
        "    true_labels.extend(label_ids)\n",
        "\n",
        "  erc_pred_outs = [np.argmax(row) for row in output_preds]\n",
        "  return true_labels, output_preds, erc_pred_outs"
      ],
      "metadata": {
        "id": "ubWrUUlPJXYK"
      },
      "execution_count": null,
      "outputs": []
    },
    {
      "cell_type": "code",
      "source": [
        "def erc_pipeline(seed, issaved):\n",
        "  print(f'Pipeline on seed {seed}')\n",
        "  torch.manual_seed(seed)\n",
        "  torch.cuda.manual_seed(seed)\n",
        "  torch.backends.cudnn.deterministic = True\n",
        "\n",
        "  erc_model = BertERCModel(7).to(device)\n",
        "  erc_optimizer = torch.optim.AdamW(erc_model.parameters(), lr=erc_lr, eps=erc_adam_epsilon)\n",
        "\n",
        "  if issaved:\n",
        "    erc_model = torch.load(f'drive/MyDrive/Models/ERC_{seed}.pt', map_location=device)\n",
        "  else:\n",
        "    erc_model = train_erc(erc_model, erc_optimizer)\n",
        "\n",
        "  torch.save(erc_model, f'Models/ERC_{seed}.pt')\n",
        "  y, y_pred_scores, y_preds = make_erc_preds(erc_model, erc_test_dataloader)\n",
        "  erc_f1s.append(compute_metrics(y, y_preds))"
      ],
      "metadata": {
        "id": "rwchFs2vLtL7"
      },
      "execution_count": null,
      "outputs": []
    },
    {
      "cell_type": "code",
      "source": [
        "erc_f1s = []\n",
        "seeds = [38921, 101, 27, 2839, 12]\n",
        "for seed in seeds:\n",
        "  erc_pipeline(seed, issaved=False)"
      ],
      "metadata": {
        "id": "Z0UppKkILuz8",
        "colab": {
          "base_uri": "https://localhost:8080/"
        },
        "outputId": "78c56631-6641-4e70-eb88-d765bbdd770a"
      },
      "execution_count": null,
      "outputs": [
        {
          "output_type": "stream",
          "name": "stdout",
          "text": [
            "Pipeline on seed 38921\n",
            "Pipeline on seed 101\n",
            "Pipeline on seed 27\n",
            "Pipeline on seed 2839\n",
            "Pipeline on seed 12\n"
          ]
        }
      ]
    },
    {
      "cell_type": "code",
      "source": [
        "print(f\"best F1-score {max(erc_f1s)} on seed {seeds[np.argmax(erc_f1s)]}\")"
      ],
      "metadata": {
        "id": "wyPpfPyZL6Lg",
        "colab": {
          "base_uri": "https://localhost:8080/"
        },
        "outputId": "9dcff87f-3cd3-4b6d-aa23-6687025d1447"
      },
      "execution_count": null,
      "outputs": [
        {
          "output_type": "stream",
          "name": "stdout",
          "text": [
            "best F1-score 0.3939154216111674 on seed 27\n"
          ]
        }
      ]
    },
    {
      "cell_type": "markdown",
      "source": [
        "### Error Analysis\n",
        "\n",
        "We use model with the best F1-score to do our Error Analysis"
      ],
      "metadata": {
        "id": "kh38P0X3O-Zc"
      }
    },
    {
      "cell_type": "code",
      "source": [
        "erc_model = torch.load('Models/ERC_27.pt')\n",
        "y, y_scores, y_preds = make_erc_preds(erc_model, erc_test_dataloader)"
      ],
      "metadata": {
        "id": "8jCJp1OXPNCz"
      },
      "execution_count": null,
      "outputs": []
    },
    {
      "cell_type": "code",
      "source": [
        "from sklearn.metrics import confusion_matrix, ConfusionMatrixDisplay, RocCurveDisplay, roc_curve, PrecisionRecallDisplay, precision_recall_curve, auc, roc_auc_score, average_precision_score"
      ],
      "metadata": {
        "id": "EJIgYjVSPmb9"
      },
      "execution_count": null,
      "outputs": []
    },
    {
      "cell_type": "code",
      "source": [
        "cm = confusion_matrix(y, y_preds)\n",
        "cm_display = ConfusionMatrixDisplay(cm).plot()\n",
        "# plt.savefig('drive/MyDrive/ERCConfusionMatrix.pdf')\n",
        "print('           0,       1,        2,     3,      4,        5,      6')\n",
        "labelencoder.inverse_transform([0, 1, 2, 3, 4, 5, 6])"
      ],
      "metadata": {
        "id": "R4HOuKq8Pp0d",
        "colab": {
          "base_uri": "https://localhost:8080/",
          "height": 501
        },
        "outputId": "2301d665-cf15-4f29-ad87-54176ecc93a5"
      },
      "execution_count": null,
      "outputs": [
        {
          "output_type": "stream",
          "name": "stdout",
          "text": [
            "           0,       1,        2,     3,      4,        5,      6\n"
          ]
        },
        {
          "output_type": "execute_result",
          "data": {
            "text/plain": [
              "array(['anger', 'disgust', 'fear', 'joy', 'neutral', 'sadness',\n",
              "       'surprise'], dtype='<U8')"
            ]
          },
          "metadata": {},
          "execution_count": 74
        },
        {
          "output_type": "display_data",
          "data": {
            "text/plain": [
              "<Figure size 640x480 with 2 Axes>"
            ],
            "image/png": "[encoded data removed]"
          },
          "metadata": {}
        }
      ]
    },
    {
      "cell_type": "markdown",
      "metadata": {
        "id": "opZpwoQ0JYYo"
      },
      "source": [
        "We observe that the most misclassications are:\n",
        "\n",
        "\n",
        "*   Joy misclassified as Neutral (176)\n",
        "*   Sadness as Neutral (110)\n",
        "*   Anger misclassified as Neutral (108)\n"
      ]
    },
    {
      "cell_type": "markdown",
      "source": [
        "#### ROC with macro-average"
      ],
      "metadata": {
        "id": "LuIlMFMOP5LB"
      }
    },
    {
      "cell_type": "code",
      "source": [
        "from sklearn.preprocessing import LabelBinarizer\n",
        "lb = LabelBinarizer()\n",
        "lb.fit([0,1,2,3,4,5,6])"
      ],
      "metadata": {
        "id": "SlRNo1bBP9kT",
        "colab": {
          "base_uri": "https://localhost:8080/",
          "height": 75
        },
        "outputId": "66ade4dc-4668-4ed1-a337-73c763f6ecd5"
      },
      "execution_count": null,
      "outputs": [
        {
          "output_type": "execute_result",
          "data": {
            "text/plain": [
              "LabelBinarizer()"
            ],
            "text/html": [
              "<style>#sk-container-id-2 {color: black;background-color: white;}#sk-container-id-2 pre{padding: 0;}#sk-container-id-2 div.sk-toggleable {background-color: white;}#sk-container-id-2 label.sk-toggleable__label {cursor: pointer;display: block;width: 100%;margin-bottom: 0;padding: 0.3em;box-sizing: border-box;text-align: center;}#sk-container-id-2 label.sk-toggleable__label-arrow:before {content: \"▸\";float: left;margin-right: 0.25em;color: #696969;}#sk-container-id-2 label.sk-toggleable__label-arrow:hover:before {color: black;}#sk-container-id-2 div.sk-estimator:hover label.sk-toggleable__label-arrow:before {color: black;}#sk-container-id-2 div.sk-toggleable__content {max-height: 0;max-width: 0;overflow: hidden;text-align: left;background-color: #f0f8ff;}#sk-container-id-2 div.sk-toggleable__content pre {margin: 0.2em;color: black;border-radius: 0.25em;background-color: #f0f8ff;}#sk-container-id-2 input.sk-toggleable__control:checked~div.sk-toggleable__content {max-height: 200px;max-width: 100%;overflow: auto;}#sk-container-id-2 input.sk-toggleable__control:checked~label.sk-toggleable__label-arrow:before {content: \"▾\";}#sk-container-id-2 div.sk-estimator input.sk-toggleable__control:checked~label.sk-toggleable__label {background-color: #d4ebff;}#sk-container-id-2 div.sk-label input.sk-toggleable__control:checked~label.sk-toggleable__label {background-color: #d4ebff;}#sk-container-id-2 input.sk-hidden--visually {border: 0;clip: rect(1px 1px 1px 1px);clip: rect(1px, 1px, 1px, 1px);height: 1px;margin: -1px;overflow: hidden;padding: 0;position: absolute;width: 1px;}#sk-container-id-2 div.sk-estimator {font-family: monospace;background-color: #f0f8ff;border: 1px dotted black;border-radius: 0.25em;box-sizing: border-box;margin-bottom: 0.5em;}#sk-container-id-2 div.sk-estimator:hover {background-color: #d4ebff;}#sk-container-id-2 div.sk-parallel-item::after {content: \"\";width: 100%;border-bottom: 1px solid gray;flex-grow: 1;}#sk-container-id-2 div.sk-label:hover label.sk-toggleable__label {background-color: #d4ebff;}#sk-container-id-2 div.sk-serial::before {content: \"\";position: absolute;border-left: 1px solid gray;box-sizing: border-box;top: 0;bottom: 0;left: 50%;z-index: 0;}#sk-container-id-2 div.sk-serial {display: flex;flex-direction: column;align-items: center;background-color: white;padding-right: 0.2em;padding-left: 0.2em;position: relative;}#sk-container-id-2 div.sk-item {position: relative;z-index: 1;}#sk-container-id-2 div.sk-parallel {display: flex;align-items: stretch;justify-content: center;background-color: white;position: relative;}#sk-container-id-2 div.sk-item::before, #sk-container-id-2 div.sk-parallel-item::before {content: \"\";position: absolute;border-left: 1px solid gray;box-sizing: border-box;top: 0;bottom: 0;left: 50%;z-index: -1;}#sk-container-id-2 div.sk-parallel-item {display: flex;flex-direction: column;z-index: 1;position: relative;background-color: white;}#sk-container-id-2 div.sk-parallel-item:first-child::after {align-self: flex-end;width: 50%;}#sk-container-id-2 div.sk-parallel-item:last-child::after {align-self: flex-start;width: 50%;}#sk-container-id-2 div.sk-parallel-item:only-child::after {width: 0;}#sk-container-id-2 div.sk-dashed-wrapped {border: 1px dashed gray;margin: 0 0.4em 0.5em 0.4em;box-sizing: border-box;padding-bottom: 0.4em;background-color: white;}#sk-container-id-2 div.sk-label label {font-family: monospace;font-weight: bold;display: inline-block;line-height: 1.2em;}#sk-container-id-2 div.sk-label-container {text-align: center;}#sk-container-id-2 div.sk-container {/* jupyter's `normalize.less` sets `[hidden] { display: none; }` but bootstrap.min.css set `[hidden] { display: none !important; }` so we also need the `!important` here to be able to override the default hidden behavior on the sphinx rendered scikit-learn.org. See: https://github.com/scikit-learn/scikit-learn/issues/21755 */display: inline-block !important;position: relative;}#sk-container-id-2 div.sk-text-repr-fallback {display: none;}</style><div id=\"sk-container-id-2\" class=\"sk-top-container\"><div class=\"sk-text-repr-fallback\"><pre>LabelBinarizer()</pre><b>In a Jupyter environment, please rerun this cell to show the HTML representation or trust the notebook. <br />On GitHub, the HTML representation is unable to render, please try loading this page with nbviewer.org.</b></div><div class=\"sk-container\" hidden><div class=\"sk-item\"><div class=\"sk-estimator sk-toggleable\"><input class=\"sk-toggleable__control sk-hidden--visually\" id=\"sk-estimator-id-2\" type=\"checkbox\" checked><label for=\"sk-estimator-id-2\" class=\"sk-toggleable__label sk-toggleable__label-arrow\">LabelBinarizer</label><div class=\"sk-toggleable__content\"><pre>LabelBinarizer()</pre></div></div></div></div></div>"
            ]
          },
          "metadata": {},
          "execution_count": 75
        }
      ]
    },
    {
      "cell_type": "code",
      "source": [
        "# we convert to scores to pb distribution with softmax\n",
        "y_tens = torch.tensor(y_scores)\n",
        "y_softmax_score = torch.nn.functional.softmax(y_tens, 1).detach().numpy()"
      ],
      "metadata": {
        "id": "JYIywZUTP_Sv"
      },
      "execution_count": null,
      "outputs": []
    },
    {
      "cell_type": "code",
      "source": [
        "y_ohe = lb.transform(y)\n",
        "\n",
        "n_classes = len(labelencoder.classes_)\n",
        "fpr, tpr, roc_auc = dict(), dict(), dict()\n",
        "for i in range(n_classes):\n",
        "    fpr[i], tpr[i], _ = roc_curve(y_ohe[:, i], y_softmax_score[:, i])\n",
        "    roc_auc[i] = auc(fpr[i], tpr[i])\n",
        "\n",
        "fpr_grid = np.linspace(0.0, 1.0, 1000)\n",
        "\n",
        "# Interpolate all ROC curves at these points\n",
        "mean_tpr = np.zeros_like(fpr_grid)\n",
        "\n",
        "for i in range(n_classes):\n",
        "    mean_tpr += np.interp(fpr_grid, fpr[i], tpr[i])  # linear interpolation\n",
        "\n",
        "# Average it and compute AUC\n",
        "mean_tpr /= n_classes\n",
        "\n",
        "fpr[\"macro\"] = fpr_grid\n",
        "tpr[\"macro\"] = mean_tpr\n",
        "roc_auc[\"macro\"] = auc(fpr[\"macro\"], tpr[\"macro\"])\n",
        "\n",
        "roc_auc"
      ],
      "metadata": {
        "id": "ELkIok5GQwcc",
        "colab": {
          "base_uri": "https://localhost:8080/"
        },
        "outputId": "c3b005cc-5e8b-40f9-e216-15e4dd084ff8"
      },
      "execution_count": null,
      "outputs": [
        {
          "output_type": "execute_result",
          "data": {
            "text/plain": [
              "{0: 0.6985331761653333,\n",
              " 1: 0.6856843630099444,\n",
              " 2: 0.7904600640449697,\n",
              " 3: 0.7595947035510282,\n",
              " 4: 0.8173380106456707,\n",
              " 5: 0.6378187735002433,\n",
              " 6: 0.8544249096741565,\n",
              " 'macro': 0.7491331648491626}"
            ]
          },
          "metadata": {},
          "execution_count": 77
        }
      ]
    },
    {
      "cell_type": "code",
      "source": [
        "RocCurveDisplay(fpr=fpr['macro'], tpr=tpr['macro']).plot()"
      ],
      "metadata": {
        "id": "6-zEvvLfQ21-",
        "colab": {
          "base_uri": "https://localhost:8080/",
          "height": 466
        },
        "outputId": "c81bad43-9145-4b91-f91c-eaac8178e0fb"
      },
      "execution_count": null,
      "outputs": [
        {
          "output_type": "execute_result",
          "data": {
            "text/plain": [
              "<sklearn.metrics._plot.roc_curve.RocCurveDisplay at 0x7feaa06c9ba0>"
            ]
          },
          "metadata": {},
          "execution_count": 78
        },
        {
          "output_type": "display_data",
          "data": {
            "text/plain": [
              "<Figure size 640x480 with 1 Axes>"
            ],
            "image/png": "[encoded data removed]"
          },
          "metadata": {}
        }
      ]
    },
    {
      "cell_type": "code",
      "source": [
        "fig, ax = plt.subplots(figsize=(6, 6))\n",
        "\n",
        "colors = [\"aqua\", \"darkorange\", \"cornflowerblue\", \"deeppink\", \"navy\", \"chocolate\", \"teal\"]\n",
        "for class_id, color in zip(range(n_classes), colors):\n",
        "  RocCurveDisplay.from_predictions(\n",
        "        y_ohe[:, class_id],\n",
        "        y_softmax_score[:, class_id],\n",
        "        name=f\"ROC curve for {labelencoder.classes_[class_id]}\",\n",
        "        color=color,\n",
        "        ax=ax,\n",
        "    )\n"
      ],
      "metadata": {
        "id": "5QReI9tCQ4yl",
        "colab": {
          "base_uri": "https://localhost:8080/",
          "height": 542
        },
        "outputId": "b8b5357a-1013-4eb9-9902-9c0a3598233e"
      },
      "execution_count": null,
      "outputs": [
        {
          "output_type": "display_data",
          "data": {
            "text/plain": [
              "<Figure size 600x600 with 1 Axes>"
            ],
            "image/png": "[encoded data removed]"
          },
          "metadata": {}
        }
      ]
    },
    {
      "cell_type": "markdown",
      "source": [
        "#### Recall Precision"
      ],
      "metadata": {
        "id": "CyEtadwORlTK"
      }
    },
    {
      "cell_type": "code",
      "source": [
        "n_classY = len(labelencoder.classes_)\n",
        "Y_test = lb.transform(y)\n",
        "Y_score = lb.transform(y_preds)\n",
        "precision = dict()\n",
        "recall = dict()\n",
        "average_precision = dict()\n",
        "for i in range(n_classY):\n",
        "    precision[i], recall[i], _ = precision_recall_curve(Y_test[:, i], Y_score[:, i])\n",
        "    average_precision[i] = average_precision_score(Y_test[:, i], Y_score[:, i])\n",
        "# A \"micro-average\": quantifying score on all classes jointly\n",
        "precision[\"micro\"], recall[\"micro\"], _ = precision_recall_curve(Y_test.ravel(), Y_score.ravel())\n",
        "average_precision[\"micro\"] = average_precision_score(Y_test, Y_score, average=\"micro\")\n",
        "\n",
        "from collections import Counter\n",
        "display = PrecisionRecallDisplay(\n",
        "    recall=recall[\"micro\"],\n",
        "    precision=precision[\"micro\"],\n",
        "    average_precision=average_precision[\"micro\"],\n",
        ")\n",
        "display.plot()\n",
        "_ = display.ax_.set_title(\"Micro-averaged over all classes\")"
      ],
      "metadata": {
        "id": "GVXioqS_ReRl",
        "colab": {
          "base_uri": "https://localhost:8080/",
          "height": 472
        },
        "outputId": "2ea0309b-e280-4ccc-eba9-6195b4aa8289"
      },
      "execution_count": null,
      "outputs": [
        {
          "output_type": "display_data",
          "data": {
            "text/plain": [
              "<Figure size 640x480 with 1 Axes>"
            ],
            "image/png": "[encoded data removed]"
          },
          "metadata": {}
        }
      ]
    },
    {
      "cell_type": "code",
      "source": [
        "from itertools import cycle\n",
        "\n",
        "import matplotlib.pyplot as plt\n",
        "\n",
        "# setup plot details\n",
        "colors = cycle([\"navy\", \"turquoise\", \"darkorange\", \"cornflowerblue\", \"teal\"])\n",
        "\n",
        "_, ax = plt.subplots(figsize=(7, 8))\n",
        "\n",
        "f_scores = np.linspace(0.2, 0.8, num=4)\n",
        "lines, labels = [], []\n",
        "for f_score in f_scores:\n",
        "    x = np.linspace(0.01, 1)\n",
        "    y_ = f_score * x / (2 * x - f_score)\n",
        "    (l,) = plt.plot(x[y_ >= 0], y_[y_ >= 0], color=\"gray\", alpha=0.2)\n",
        "    plt.annotate(\"f1={0:0.1f}\".format(f_score), xy=(0.9, y_[45] + 0.02))\n",
        "\n",
        "display = PrecisionRecallDisplay(\n",
        "    recall=recall[\"micro\"],\n",
        "    precision=precision[\"micro\"],\n",
        "    average_precision=average_precision[\"micro\"],\n",
        ")\n",
        "display.plot(ax=ax, name=\"Micro-average precision-recall\", color=\"gold\")\n",
        "\n",
        "for i, color in zip(range(n_classY), colors):\n",
        "    display = PrecisionRecallDisplay(\n",
        "        recall=recall[i],\n",
        "        precision=precision[i],\n",
        "        average_precision=average_precision[i],\n",
        "    )\n",
        "    display.plot(ax=ax, name=f\"Precision-recall for class {i} ({labelencoder.inverse_transform([i])[0]})\", color=color)\n",
        "\n",
        "# add the legend for the iso-f1 curves\n",
        "handles, labels = display.ax_.get_legend_handles_labels()\n",
        "handles.extend([l])\n",
        "labels.extend([\"iso-f1 curves\"])\n",
        "# set the legend and the axes\n",
        "ax.legend(handles=handles, labels=labels, bbox_to_anchor=(1.1, 1.05))\n",
        "ax.set_title(\"Extension of Precision-Recall curve to multi-class\")\n",
        "ax.set_xlim([0, 1])\n",
        "ax.set_ylim([0, 1])\n",
        "\n",
        "plt.show()"
      ],
      "metadata": {
        "id": "OTq1XnvkRewu",
        "colab": {
          "base_uri": "https://localhost:8080/",
          "height": 720
        },
        "outputId": "b437f129-6e19-45d4-e851-218a6a571aa0"
      },
      "execution_count": null,
      "outputs": [
        {
          "output_type": "display_data",
          "data": {
            "text/plain": [
              "<Figure size 700x800 with 1 Axes>"
            ],
            "image/png": "[encoded data removed]"
          },
          "metadata": {}
        }
      ]
    }
  ]
}