{
  "metadata": {
    "accelerator": "GPU",
    "colab": {
      "provenance": [],
      "gpuType": "T4"
    },
    "kernelspec": {
      "name": "python3",
      "display_name": "Python 3",
      "language": "python"
    },
    "language_info": {
      "name": "python",
      "version": "3.10.13",
      "mimetype": "text/x-python",
      "codemirror_mode": {
        "name": "ipython",
        "version": 3
      },
      "pygments_lexer": "ipython3",
      "nbconvert_exporter": "python",
      "file_extension": ".py"
    },
    "kaggle": {
      "accelerator": "nvidiaTeslaT4",
      "dataSources": [],
      "dockerImageVersionId": 30648,
      "isInternetEnabled": true,
      "language": "python",
      "sourceType": "notebook",
      "isGpuEnabled": true
    }
  },
  "nbformat_minor": 0,
  "nbformat": 4,
  "cells": [
    {
      "cell_type": "code",
      "source": [
        "# file management\n",
        "import sys\n",
        "import shutil\n",
        "import urllib\n",
        "import tarfile\n",
        "import zipfile\n",
        "from pathlib import Path\n",
        "from copy import deepcopy\n",
        "import pickle\n",
        "\n",
        "import os\n",
        "\n",
        "# dataframe management\n",
        "import pandas as pd\n",
        "\n",
        "# data manipulation\n",
        "import numpy as np\n",
        "\n",
        "# for readability\n",
        "from typing import Iterable\n",
        "from tqdm.notebook import tqdm, tnrange\n",
        "\n",
        "\n",
        "import transformers\n",
        "import torch\n",
        "from torch.utils.data import Dataset, DataLoader, RandomSampler, SequentialSampler\n",
        "from transformers import BertTokenizer, BertModel, BertConfig\n",
        "from sklearn import metrics\n",
        "from sklearn.model_selection import train_test_split"
      ],
      "metadata": {
        "id": "qeOB7p0u8-7R",
        "execution": {
          "iopub.status.busy": "2024-02-08T00:34:17.562869Z",
          "iopub.execute_input": "2024-02-08T00:34:17.563309Z",
          "iopub.status.idle": "2024-02-08T00:34:17.570091Z",
          "shell.execute_reply.started": "2024-02-08T00:34:17.563266Z",
          "shell.execute_reply": "2024-02-08T00:34:17.569205Z"
        },
        "trusted": true
      },
      "execution_count": null,
      "outputs": []
    },
    {
      "cell_type": "code",
      "source": [
        "class DownloadProgressBar(tqdm):\n",
        "    def update_to(self, b=1, bsize=1, tsize=None):\n",
        "        if tsize is not None:\n",
        "            self.total = tsize\n",
        "        self.update(b * bsize - self.n)\n",
        "\n",
        "def download_url(download_path: Path, url: str):\n",
        "    with DownloadProgressBar(unit='B', unit_scale=True,\n",
        "                             miniters=1, desc=url.split('/')[-1]) as t:\n",
        "        urllib.request.urlretrieve(url, filename=download_path, reporthook=t.update_to)\n",
        "\n",
        "\n",
        "def download_dataset(download_path: Path, url: str):\n",
        "    print(\"Downloading dataset...\")\n",
        "    download_url(url=url, download_path=download_path)\n",
        "    print(\"Download complete!\")\n",
        "\n",
        "def extract_dataset(download_path: Path, extract_path: Path, mode=\"tar\"):\n",
        "    print(\"Extracting dataset... (it may take a while...)\")\n",
        "    if mode == \"tar\":\n",
        "      with tarfile.open(download_path) as loaded_tar:\n",
        "        loaded_tar.extractall(extract_path)\n",
        "    elif mode == \"zip\":\n",
        "      with zipfile.ZipFile(download_path, 'r') as zip_ref:\n",
        "        zip_ref.extractall(extract_path)\n",
        "\n",
        "    print(\"Extraction completed!\")"
      ],
      "metadata": {
        "id": "qzNTq9ye9Rkn",
        "execution": {
          "iopub.status.busy": "2024-02-08T00:34:22.246397Z",
          "iopub.execute_input": "2024-02-08T00:34:22.247098Z",
          "iopub.status.idle": "2024-02-08T00:34:22.257418Z",
          "shell.execute_reply.started": "2024-02-08T00:34:22.247065Z",
          "shell.execute_reply": "2024-02-08T00:34:22.256208Z"
        },
        "trusted": true
      },
      "execution_count": null,
      "outputs": []
    },
    {
      "cell_type": "code",
      "source": [
        "train_url = \"https://drive.usercontent.google.com/download?id=1wVNU2XvvhqjaGXZM-JLJwOt97gt4g9j2&export=download&authuser=0&confirm=t&uuid=9004532d-1162-47b2-985c-492039597222&at=APZUnTWm8D1ZM5_aa68vV6nRf9FA:1705400593770\"\n",
        "train_dataset_name = \"EFR_train_dataset.json\"\n",
        "eval_url = \"https://drive.usercontent.google.com/download?id=1wOgwT7Y9C3e4XIwecodTeO1acrbyIwkm&export=download&authuser=0&confirm=t&uuid=e4720599-94e5-4131-901b-702ca969911b&at=APZUnTWVa93R-4Dj4LTvBIIwODRr:1705754234489\"\n",
        "eval_dataset_name = \"EFR_eval_dataset.json\"\n",
        "test_url = \"https://drive.usercontent.google.com/download?id=1iS3Gjyi30e4gu7dRGSY5beOG4KFAB9E-&export=download&authuser=0&confirm=t&uuid=41eabfc2-eb88-47f2-86ae-38c31ef764a9&at=APZUnTX1AwYtJ_oyDVv7G2Lx34r1:1705754302262\"\n",
        "test_dataset_name = \"EFR_test_dataset.json\"\n",
        "\n",
        "print(f\"Current work directory: {Path.cwd()}\")\n",
        "dataset_folder = Path.cwd().joinpath(\"Datasets\")\n",
        "\n",
        "if not dataset_folder.exists():\n",
        "    dataset_folder.mkdir(parents=True)\n",
        "\n",
        "train_dataset_json_path = dataset_folder.joinpath(train_dataset_name)\n",
        "eval_dataset_json_path = dataset_folder.joinpath(eval_dataset_name)\n",
        "test_dataset_json_path = dataset_folder.joinpath(test_dataset_name)\n",
        "\n",
        "if not train_dataset_json_path.exists():\n",
        "    download_dataset(train_dataset_json_path, train_url)\n",
        "if not eval_dataset_json_path.exists():\n",
        "    download_dataset(eval_dataset_json_path, eval_url)\n",
        "if not test_dataset_json_path.exists():\n",
        "    download_dataset(test_dataset_json_path, test_url)"
      ],
      "metadata": {
        "colab": {
          "base_uri": "https://localhost:8080/",
          "referenced_widgets": [
            "12b03dac71704b00bcaf806b8c6df6bc",
            "79f4c34648d74828936407b20d5e0a27",
            "e11ead614b6b43d0851479ad2d7daa32"
          ]
        },
        "id": "M162Dn7e9BuK",
        "outputId": "4afdb380-5dbc-4fcd-fee6-87f7f7773c15",
        "execution": {
          "iopub.status.busy": "2024-02-08T00:34:23.563500Z",
          "iopub.execute_input": "2024-02-08T00:34:23.564402Z",
          "iopub.status.idle": "2024-02-08T00:34:26.940705Z",
          "shell.execute_reply.started": "2024-02-08T00:34:23.564366Z",
          "shell.execute_reply": "2024-02-08T00:34:26.939708Z"
        },
        "trusted": true
      },
      "execution_count": null,
      "outputs": [
        {
          "name": "stdout",
          "text": "Current work directory: /kaggle/working\nDownloading dataset...\n",
          "output_type": "stream"
        },
        {
          "output_type": "display_data",
          "data": {
            "text/plain": "download?id=1wVNU2XvvhqjaGXZM-JLJwOt97gt4g9j2&export=download&authuser=0&confirm=t&uuid=9004532d-1162-47b2-985…",
            "application/vnd.jupyter.widget-view+json": {
              "version_major": 2,
              "version_minor": 0,
              "model_id": "12b03dac71704b00bcaf806b8c6df6bc"
            }
          },
          "metadata": {}
        },
        {
          "name": "stdout",
          "text": "Download complete!\nDownloading dataset...\n",
          "output_type": "stream"
        },
        {
          "output_type": "display_data",
          "data": {
            "text/plain": "download?id=1wOgwT7Y9C3e4XIwecodTeO1acrbyIwkm&export=download&authuser=0&confirm=t&uuid=e4720599-94e5-4131-901…",
            "application/vnd.jupyter.widget-view+json": {
              "version_major": 2,
              "version_minor": 0,
              "model_id": "79f4c34648d74828936407b20d5e0a27"
            }
          },
          "metadata": {}
        },
        {
          "name": "stdout",
          "text": "Download complete!\nDownloading dataset...\n",
          "output_type": "stream"
        },
        {
          "output_type": "display_data",
          "data": {
            "text/plain": "download?id=1iS3Gjyi30e4gu7dRGSY5beOG4KFAB9E-&export=download&authuser=0&confirm=t&uuid=41eabfc2-eb88-47f2-86a…",
            "application/vnd.jupyter.widget-view+json": {
              "version_major": 2,
              "version_minor": 0,
              "model_id": "e11ead614b6b43d0851479ad2d7daa32"
            }
          },
          "metadata": {}
        },
        {
          "name": "stdout",
          "text": "Download complete!\n",
          "output_type": "stream"
        }
      ]
    },
    {
      "cell_type": "code",
      "source": [
        "global_df = pd.read_json(train_dataset_json_path)"
      ],
      "metadata": {
        "id": "bdB6ele89MqA",
        "execution": {
          "iopub.status.busy": "2024-02-08T00:34:26.942295Z",
          "iopub.execute_input": "2024-02-08T00:34:26.942607Z",
          "iopub.status.idle": "2024-02-08T00:34:27.052097Z",
          "shell.execute_reply.started": "2024-02-08T00:34:26.942579Z",
          "shell.execute_reply": "2024-02-08T00:34:27.051045Z"
        },
        "trusted": true
      },
      "execution_count": null,
      "outputs": []
    },
    {
      "cell_type": "code",
      "source": [
        "# Replaces NaN values by 0 in lists of given row\n",
        "def remove_nan(row):\n",
        "    return [0 if pd.isna(x) else x for x in row]\n",
        "\n",
        "# Checks that there are no NaN values in lists of given row\n",
        "def nan_free(column):\n",
        "    return all(all(pd.notna(x) for x in row) for row in column)\n",
        "\n",
        "global_df['triggers'] = global_df['triggers'].apply(remove_nan)\n",
        "nan_free(global_df['triggers'])"
      ],
      "metadata": {
        "id": "v_Fpw6ok9ng6",
        "colab": {
          "base_uri": "https://localhost:8080/"
        },
        "outputId": "6d9d9ff2-7748-406d-9630-3458eaa03a82",
        "execution": {
          "iopub.status.busy": "2024-02-08T00:34:28.901757Z",
          "iopub.execute_input": "2024-02-08T00:34:28.902407Z",
          "iopub.status.idle": "2024-02-08T00:34:28.977829Z",
          "shell.execute_reply.started": "2024-02-08T00:34:28.902370Z",
          "shell.execute_reply": "2024-02-08T00:34:28.976898Z"
        },
        "trusted": true
      },
      "execution_count": null,
      "outputs": [
        {
          "execution_count": 6,
          "output_type": "execute_result",
          "data": {
            "text/plain": "True"
          },
          "metadata": {}
        }
      ]
    },
    {
      "cell_type": "code",
      "source": [
        "def transform_df(df):\n",
        "    # Concatenate each utterance to their respective emotion\n",
        "    df['concat_utterance'] = df.apply(lambda row: [a + \" \" + b for a, b in zip(row['utterances'], row['emotions'])], axis=1)\n",
        "\n",
        "    # Create a new identical row for each element in the list of trigger target\n",
        "    df = global_df.explode('triggers', ignore_index=True)\n",
        "\n",
        "    # Create a new column to keep index of each utterance's trigger\n",
        "    df['utterance_index'] = df.groupby('episode').cumcount() + 1\n",
        "\n",
        "    # Concatenate a pointer \"TRIGGER\" at the end of the correct utterance\n",
        "    df['concat_utterance'] = df.apply(lambda row: [word + ' TRIGGER' if i == row['utterance_index']-1 else word for i, word in enumerate(row['concat_utterance'])], axis=1)\n",
        "\n",
        "    return df[['episode', 'concat_utterance', 'triggers', 'utterance_index']]\n",
        "\n",
        "df = transform_df(global_df)"
      ],
      "metadata": {
        "id": "f9dPLG64-hT6",
        "execution": {
          "iopub.status.busy": "2024-02-08T00:34:30.236860Z",
          "iopub.execute_input": "2024-02-08T00:34:30.237598Z",
          "iopub.status.idle": "2024-02-08T00:34:32.863853Z",
          "shell.execute_reply.started": "2024-02-08T00:34:30.237562Z",
          "shell.execute_reply": "2024-02-08T00:34:32.862859Z"
        },
        "trusted": true
      },
      "execution_count": null,
      "outputs": []
    },
    {
      "cell_type": "code",
      "source": [
        "df.head(10)"
      ],
      "metadata": {
        "colab": {
          "base_uri": "https://localhost:8080/",
          "height": 363
        },
        "id": "IWDTEPJC8T0B",
        "outputId": "d9676e31-cd19-4af5-beba-ce25e6945ffb",
        "execution": {
          "iopub.status.busy": "2024-02-08T00:34:32.865581Z",
          "iopub.execute_input": "2024-02-08T00:34:32.865878Z",
          "iopub.status.idle": "2024-02-08T00:34:32.888534Z",
          "shell.execute_reply.started": "2024-02-08T00:34:32.865851Z",
          "shell.execute_reply": "2024-02-08T00:34:32.887603Z"
        },
        "trusted": true
      },
      "execution_count": null,
      "outputs": [
        {
          "execution_count": 8,
          "output_type": "execute_result",
          "data": {
            "text/plain": "       episode                                   concat_utterance triggers  \\\n0  utterance_0  [also I was the point person on my company's t...      0.0   \n1  utterance_0  [also I was the point person on my company's t...      0.0   \n2  utterance_0  [also I was the point person on my company's t...      0.0   \n3  utterance_0  [also I was the point person on my company's t...      1.0   \n4  utterance_0  [also I was the point person on my company's t...      0.0   \n5  utterance_1  [also I was the point person on my company's t...      0.0   \n6  utterance_1  [also I was the point person on my company's t...      0.0   \n7  utterance_1  [also I was the point person on my company's t...      0.0   \n8  utterance_1  [also I was the point person on my company's t...      0.0   \n9  utterance_1  [also I was the point person on my company's t...      0.0   \n\n   utterance_index  \n0                1  \n1                2  \n2                3  \n3                4  \n4                5  \n5                1  \n6                2  \n7                3  \n8                4  \n9                5  ",
            "text/html": "<div>\n<style scoped>\n    .dataframe tbody tr th:only-of-type {\n        vertical-align: middle;\n    }\n\n    .dataframe tbody tr th {\n        vertical-align: top;\n    }\n\n    .dataframe thead th {\n        text-align: right;\n    }\n</style>\n<table border=\"1\" class=\"dataframe\">\n  <thead>\n    <tr style=\"text-align: right;\">\n      <th></th>\n      <th>episode</th>\n      <th>concat_utterance</th>\n      <th>triggers</th>\n      <th>utterance_index</th>\n    </tr>\n  </thead>\n  <tbody>\n    <tr>\n      <th>0</th>\n      <td>utterance_0</td>\n      <td>[also I was the point person on my company's t...</td>\n      <td>0.0</td>\n      <td>1</td>\n    </tr>\n    <tr>\n      <th>1</th>\n      <td>utterance_0</td>\n      <td>[also I was the point person on my company's t...</td>\n      <td>0.0</td>\n      <td>2</td>\n    </tr>\n    <tr>\n      <th>2</th>\n      <td>utterance_0</td>\n      <td>[also I was the point person on my company's t...</td>\n      <td>0.0</td>\n      <td>3</td>\n    </tr>\n    <tr>\n      <th>3</th>\n      <td>utterance_0</td>\n      <td>[also I was the point person on my company's t...</td>\n      <td>1.0</td>\n      <td>4</td>\n    </tr>\n    <tr>\n      <th>4</th>\n      <td>utterance_0</td>\n      <td>[also I was the point person on my company's t...</td>\n      <td>0.0</td>\n      <td>5</td>\n    </tr>\n    <tr>\n      <th>5</th>\n      <td>utterance_1</td>\n      <td>[also I was the point person on my company's t...</td>\n      <td>0.0</td>\n      <td>1</td>\n    </tr>\n    <tr>\n      <th>6</th>\n      <td>utterance_1</td>\n      <td>[also I was the point person on my company's t...</td>\n      <td>0.0</td>\n      <td>2</td>\n    </tr>\n    <tr>\n      <th>7</th>\n      <td>utterance_1</td>\n      <td>[also I was the point person on my company's t...</td>\n      <td>0.0</td>\n      <td>3</td>\n    </tr>\n    <tr>\n      <th>8</th>\n      <td>utterance_1</td>\n      <td>[also I was the point person on my company's t...</td>\n      <td>0.0</td>\n      <td>4</td>\n    </tr>\n    <tr>\n      <th>9</th>\n      <td>utterance_1</td>\n      <td>[also I was the point person on my company's t...</td>\n      <td>0.0</td>\n      <td>5</td>\n    </tr>\n  </tbody>\n</table>\n</div>"
          },
          "metadata": {}
        }
      ]
    },
    {
      "cell_type": "code",
      "source": [
        "df['concat_utterance'][1]"
      ],
      "metadata": {
        "colab": {
          "base_uri": "https://localhost:8080/"
        },
        "id": "jYjIWb8H97e9",
        "outputId": "f0c994d7-8e3c-46c1-eefd-65de08e8a397",
        "execution": {
          "iopub.status.busy": "2024-02-08T00:34:33.675228Z",
          "iopub.execute_input": "2024-02-08T00:34:33.675969Z",
          "iopub.status.idle": "2024-02-08T00:34:33.682479Z",
          "shell.execute_reply.started": "2024-02-08T00:34:33.675934Z",
          "shell.execute_reply": "2024-02-08T00:34:33.681465Z"
        },
        "trusted": true
      },
      "execution_count": null,
      "outputs": [
        {
          "execution_count": 9,
          "output_type": "execute_result",
          "data": {
            "text/plain": "[\"also I was the point person on my company's transition from the KL-5 to GR-6 system. neutral\",\n \"You must've had your hands full. neutral TRIGGER\",\n 'That I did. That I did. neutral',\n \"So let's talk a little bit about your duties. neutral\",\n 'My duties?  All right. surprise']"
          },
          "metadata": {}
        }
      ]
    },
    {
      "cell_type": "code",
      "source": [
        "# Assigns 80% of data to training set, without shuffling\n",
        "train_df, test_df = train_test_split(df, test_size=0.2, shuffle=False)\n",
        "\n",
        "# Assigns remaining 20% of data to test and validation set, without shuffling\n",
        "test_df, val_df = train_test_split(test_df, test_size=0.5, shuffle=False)"
      ],
      "metadata": {
        "id": "hbRa4w4HAwQm",
        "execution": {
          "iopub.status.busy": "2024-02-08T00:34:34.874964Z",
          "iopub.execute_input": "2024-02-08T00:34:34.875619Z",
          "iopub.status.idle": "2024-02-08T00:34:34.888484Z",
          "shell.execute_reply.started": "2024-02-08T00:34:34.875589Z",
          "shell.execute_reply": "2024-02-08T00:34:34.887441Z"
        },
        "trusted": true
      },
      "execution_count": null,
      "outputs": []
    },
    {
      "cell_type": "code",
      "source": [
        "print(len(train_df))\n",
        "print(len(test_df))\n",
        "print(len(val_df))"
      ],
      "metadata": {
        "colab": {
          "base_uri": "https://localhost:8080/"
        },
        "id": "EQ4QOjUnDp-R",
        "outputId": "b926a2d5-a04e-4aa9-9b74-b3b2eefe2e47",
        "execution": {
          "iopub.status.busy": "2024-02-08T00:34:35.582729Z",
          "iopub.execute_input": "2024-02-08T00:34:35.583550Z",
          "iopub.status.idle": "2024-02-08T00:34:35.588632Z",
          "shell.execute_reply.started": "2024-02-08T00:34:35.583515Z",
          "shell.execute_reply": "2024-02-08T00:34:35.587479Z"
        },
        "trusted": true
      },
      "execution_count": null,
      "outputs": [
        {
          "name": "stdout",
          "text": "28000\n3500\n3500\n",
          "output_type": "stream"
        }
      ]
    },
    {
      "cell_type": "markdown",
      "source": [
        "## Model definition - Triggers"
      ],
      "metadata": {
        "id": "SW3oWalptqab"
      }
    },
    {
      "cell_type": "code",
      "source": [
        "# Defining some key variables that will be used later on in the training\n",
        "TRAIN_BATCH_SIZE = 8\n",
        "VALID_BATCH_SIZE = 8\n",
        "TEST_BATCH_SIZE = 8\n",
        "EPOCHS = 1\n",
        "LEARNING_RATE = 1e-05\n",
        "tokenizer = BertTokenizer.from_pretrained('bert-base-uncased')\n",
        "\n",
        "thresholds = {}"
      ],
      "metadata": {
        "id": "xlzb2oMaCHKc",
        "execution": {
          "iopub.status.busy": "2024-02-08T00:34:38.561968Z",
          "iopub.execute_input": "2024-02-08T00:34:38.562689Z",
          "iopub.status.idle": "2024-02-08T00:34:39.172905Z",
          "shell.execute_reply.started": "2024-02-08T00:34:38.562659Z",
          "shell.execute_reply": "2024-02-08T00:34:39.171908Z"
        },
        "trusted": true,
        "colab": {
          "referenced_widgets": [
            "77b9ffd52db24ad8ae0fea96fc54044d",
            "731b5cba12204c459b0e177f61cbfd56"
          ]
        },
        "outputId": "5d492f29-f649-4fbf-dc5b-1e71cc241ca2"
      },
      "execution_count": null,
      "outputs": [
        {
          "output_type": "display_data",
          "data": {
            "text/plain": "vocab.txt:   0%|          | 0.00/232k [00:00<?, ?B/s]",
            "application/vnd.jupyter.widget-view+json": {
              "version_major": 2,
              "version_minor": 0,
              "model_id": "77b9ffd52db24ad8ae0fea96fc54044d"
            }
          },
          "metadata": {}
        },
        {
          "output_type": "display_data",
          "data": {
            "text/plain": "config.json:   0%|          | 0.00/285 [00:00<?, ?B/s]",
            "application/vnd.jupyter.widget-view+json": {
              "version_major": 2,
              "version_minor": 0,
              "model_id": "731b5cba12204c459b0e177f61cbfd56"
            }
          },
          "metadata": {}
        }
      ]
    },
    {
      "cell_type": "code",
      "source": [
        "MAX_LEN = max([len(tokenizer(\" \".join(l))['input_ids']) for l in val_df[\"concat_utterance\"]])\n",
        "print(MAX_LEN)"
      ],
      "metadata": {
        "colab": {
          "base_uri": "https://localhost:8080/"
        },
        "id": "HmG42KhGJgl9",
        "outputId": "90e6c8bd-834f-4fda-f31d-8550c8a3bf62",
        "execution": {
          "iopub.status.busy": "2024-02-08T00:34:43.615483Z",
          "iopub.execute_input": "2024-02-08T00:34:43.615963Z",
          "iopub.status.idle": "2024-02-08T00:34:58.267456Z",
          "shell.execute_reply.started": "2024-02-08T00:34:43.615922Z",
          "shell.execute_reply": "2024-02-08T00:34:58.266348Z"
        },
        "trusted": true
      },
      "execution_count": null,
      "outputs": [
        {
          "name": "stdout",
          "text": "413\n",
          "output_type": "stream"
        }
      ]
    },
    {
      "cell_type": "code",
      "source": [
        "# Setting up the device for GPU usage\n",
        "from torch import cuda\n",
        "device = 'cuda' if cuda.is_available() else 'cpu'"
      ],
      "metadata": {
        "id": "tdtWDTtBE_YS",
        "execution": {
          "iopub.status.busy": "2024-02-08T00:34:58.269271Z",
          "iopub.execute_input": "2024-02-08T00:34:58.269645Z",
          "iopub.status.idle": "2024-02-08T00:34:58.324452Z",
          "shell.execute_reply.started": "2024-02-08T00:34:58.269609Z",
          "shell.execute_reply": "2024-02-08T00:34:58.323307Z"
        },
        "trusted": true
      },
      "execution_count": null,
      "outputs": []
    },
    {
      "cell_type": "code",
      "source": [
        "class CustomDataset(Dataset):\n",
        "\n",
        "    def __init__(self, dataframe, tokenizer, max_len):\n",
        "        self.tokenizer = tokenizer\n",
        "        self.data = dataframe\n",
        "        self.utterances = dataframe.concat_utterance\n",
        "        self.targets = self.data.triggers\n",
        "        self.max_len = max_len\n",
        "\n",
        "    def __len__(self):\n",
        "        return len(self.utterances)\n",
        "\n",
        "    def __getitem__(self, index):\n",
        "\n",
        "        utterances = str(self.utterances[index])\n",
        "        utterances = \" \".join(utterances.split())\n",
        "\n",
        "        inputs = self.tokenizer.encode_plus(\n",
        "            utterances,\n",
        "            None,\n",
        "            add_special_tokens=True,\n",
        "            max_length=self.max_len,\n",
        "            padding='max_length',\n",
        "            truncation=True,\n",
        "            return_token_type_ids=True\n",
        "        )\n",
        "        ids = inputs['input_ids']\n",
        "        mask = inputs['attention_mask']\n",
        "        token_type_ids = inputs[\"token_type_ids\"]\n",
        "\n",
        "\n",
        "        return {\n",
        "            'ids': torch.tensor(ids, dtype=torch.long),\n",
        "            'mask': torch.tensor(mask, dtype=torch.long),\n",
        "            'token_type_ids': torch.tensor(token_type_ids, dtype=torch.long),\n",
        "            'targets': torch.tensor(self.targets[index], dtype=torch.float)\n",
        "        }"
      ],
      "metadata": {
        "id": "dCrLUzvqFfjt",
        "execution": {
          "iopub.status.busy": "2024-02-08T00:35:00.766724Z",
          "iopub.execute_input": "2024-02-08T00:35:00.767549Z",
          "iopub.status.idle": "2024-02-08T00:35:00.776268Z",
          "shell.execute_reply.started": "2024-02-08T00:35:00.767514Z",
          "shell.execute_reply": "2024-02-08T00:35:00.775413Z"
        },
        "trusted": true
      },
      "execution_count": null,
      "outputs": []
    },
    {
      "cell_type": "code",
      "source": [
        "print(\"TRAIN Dataset: {}\".format(train_df.shape))\n",
        "print(\"VAL Dataset: {}\".format(val_df.shape))\n",
        "print(\"TEST Dataset: {}\".format(test_df.shape))\n",
        "\n",
        "training_set = CustomDataset(train_df.reset_index(), tokenizer, MAX_LEN)\n",
        "validation_set = CustomDataset(val_df.reset_index(), tokenizer, MAX_LEN)\n",
        "test_set = CustomDataset(test_df.reset_index(), tokenizer, MAX_LEN)"
      ],
      "metadata": {
        "colab": {
          "base_uri": "https://localhost:8080/"
        },
        "id": "RD8gLFw_Fl0_",
        "outputId": "6b11a5b0-38f2-4713-d848-f93eba43515d",
        "execution": {
          "iopub.status.busy": "2024-02-08T00:35:01.817201Z",
          "iopub.execute_input": "2024-02-08T00:35:01.817809Z",
          "iopub.status.idle": "2024-02-08T00:35:01.831166Z",
          "shell.execute_reply.started": "2024-02-08T00:35:01.817776Z",
          "shell.execute_reply": "2024-02-08T00:35:01.830079Z"
        },
        "trusted": true
      },
      "execution_count": null,
      "outputs": [
        {
          "name": "stdout",
          "text": "TRAIN Dataset: (28000, 4)\nVAL Dataset: (3500, 4)\nTEST Dataset: (3500, 4)\n",
          "output_type": "stream"
        }
      ]
    },
    {
      "cell_type": "code",
      "source": [
        "tokenizer.decode(training_set[1]['ids'])"
      ],
      "metadata": {
        "colab": {
          "base_uri": "https://localhost:8080/",
          "height": 196
        },
        "id": "NYQProTMghaU",
        "outputId": "d9877f30-ad20-4709-c06c-764303a63caf",
        "execution": {
          "iopub.status.busy": "2024-02-08T00:35:03.191343Z",
          "iopub.execute_input": "2024-02-08T00:35:03.192234Z",
          "iopub.status.idle": "2024-02-08T00:35:03.243094Z",
          "shell.execute_reply.started": "2024-02-08T00:35:03.192189Z",
          "shell.execute_reply": "2024-02-08T00:35:03.242081Z"
        },
        "trusted": true
      },
      "execution_count": null,
      "outputs": [
        {
          "execution_count": 17,
          "output_type": "execute_result",
          "data": {
            "text/plain": "'[CLS] [ \" also i was the point person on my company\\'s transition from the kl - 5 to gr - 6 system. neutral \", \" you must\\'ve had your hands full. neutral trigger \",\\'that i did. that i did. neutral \\', \" so let\\'s talk a little bit about your duties. neutral \",\\'my duties? all right. surprise\\'] [SEP] [PAD] [PAD] [PAD] [PAD] [PAD] [PAD] [PAD] [PAD] [PAD] [PAD] [PAD] [PAD] [PAD] [PAD] [PAD] [PAD] [PAD] [PAD] [PAD] [PAD] [PAD] [PAD] [PAD] [PAD] [PAD] [PAD] [PAD] [PAD] [PAD] [PAD] [PAD] [PAD] [PAD] [PAD] [PAD] [PAD] [PAD] [PAD] [PAD] [PAD] [PAD] [PAD] [PAD] [PAD] [PAD] [PAD] [PAD] [PAD] [PAD] [PAD] [PAD] [PAD] [PAD] [PAD] [PAD] [PAD] [PAD] [PAD] [PAD] [PAD] [PAD] [PAD] [PAD] [PAD] [PAD] [PAD] [PAD] [PAD] [PAD] [PAD] [PAD] [PAD] [PAD] [PAD] [PAD] [PAD] [PAD] [PAD] [PAD] [PAD] [PAD] [PAD] [PAD] [PAD] [PAD] [PAD] [PAD] [PAD] [PAD] [PAD] [PAD] [PAD] [PAD] [PAD] [PAD] [PAD] [PAD] [PAD] [PAD] [PAD] [PAD] [PAD] [PAD] [PAD] [PAD] [PAD] [PAD] [PAD] [PAD] [PAD] [PAD] [PAD] [PAD] [PAD] [PAD] [PAD] [PAD] [PAD] [PAD] [PAD] [PAD] [PAD] [PAD] [PAD] [PAD] [PAD] [PAD] [PAD] [PAD] [PAD] [PAD] [PAD] [PAD] [PAD] [PAD] [PAD] [PAD] [PAD] [PAD] [PAD] [PAD] [PAD] [PAD] [PAD] [PAD] [PAD] [PAD] [PAD] [PAD] [PAD] [PAD] [PAD] [PAD] [PAD] [PAD] [PAD] [PAD] [PAD] [PAD] [PAD] [PAD] [PAD] [PAD] [PAD] [PAD] [PAD] [PAD] [PAD] [PAD] [PAD] [PAD] [PAD] [PAD] [PAD] [PAD] [PAD] [PAD] [PAD] [PAD] [PAD] [PAD] [PAD] [PAD] [PAD] [PAD] [PAD] [PAD] [PAD] [PAD] [PAD] [PAD] [PAD] [PAD] [PAD] [PAD] [PAD] [PAD] [PAD] [PAD] [PAD] [PAD] [PAD] [PAD] [PAD] [PAD] [PAD] [PAD] [PAD] [PAD] [PAD] [PAD] [PAD] [PAD] [PAD] [PAD] [PAD] [PAD] [PAD] [PAD] [PAD] [PAD] [PAD] [PAD] [PAD] [PAD] [PAD] [PAD] [PAD] [PAD] [PAD] [PAD] [PAD] [PAD] [PAD] [PAD] [PAD] [PAD] [PAD] [PAD] [PAD] [PAD] [PAD] [PAD] [PAD] [PAD] [PAD] [PAD] [PAD] [PAD] [PAD] [PAD] [PAD] [PAD] [PAD] [PAD] [PAD] [PAD] [PAD] [PAD] [PAD] [PAD] [PAD] [PAD] [PAD] [PAD] [PAD] [PAD] [PAD] [PAD] [PAD] [PAD] [PAD] [PAD] [PAD] [PAD] [PAD] [PAD] [PAD] [PAD] [PAD] [PAD] [PAD] [PAD] [PAD] [PAD] [PAD] [PAD] [PAD] [PAD] [PAD] [PAD] [PAD] [PAD] [PAD] [PAD] [PAD] [PAD] [PAD] [PAD] [PAD] [PAD] [PAD] [PAD] [PAD] [PAD] [PAD] [PAD] [PAD] [PAD] [PAD] [PAD] [PAD] [PAD] [PAD] [PAD] [PAD] [PAD] [PAD] [PAD] [PAD] [PAD] [PAD] [PAD] [PAD] [PAD] [PAD] [PAD] [PAD] [PAD] [PAD]'"
          },
          "metadata": {}
        }
      ]
    },
    {
      "cell_type": "code",
      "source": [
        "train_params = {'batch_size': TRAIN_BATCH_SIZE,\n",
        "                'shuffle': True,\n",
        "                'num_workers': 0\n",
        "                }\n",
        "\n",
        "val_params = {'batch_size': VALID_BATCH_SIZE,\n",
        "                'shuffle': True,\n",
        "                'num_workers': 0\n",
        "                }\n",
        "\n",
        "test_params = {'batch_size': TEST_BATCH_SIZE,\n",
        "                'shuffle': True,\n",
        "                'num_workers': 0\n",
        "                }\n",
        "\n",
        "training_loader = DataLoader(training_set, **train_params)\n",
        "validation_loader = DataLoader(validation_set, **val_params)\n",
        "test_loader = DataLoader(test_set, **test_params)"
      ],
      "metadata": {
        "id": "N45p8PHNKC_9",
        "execution": {
          "iopub.status.busy": "2024-02-08T00:35:15.315342Z",
          "iopub.execute_input": "2024-02-08T00:35:15.315690Z",
          "iopub.status.idle": "2024-02-08T00:35:15.322058Z",
          "shell.execute_reply.started": "2024-02-08T00:35:15.315662Z",
          "shell.execute_reply": "2024-02-08T00:35:15.320900Z"
        },
        "trusted": true
      },
      "execution_count": null,
      "outputs": []
    },
    {
      "cell_type": "code",
      "source": [
        "# Creating the customized model, by adding a drop out and a dense layer on top of bert to get the final output for the model.\n",
        "\n",
        "class BERTClass(torch.nn.Module):\n",
        "    def __init__(self):\n",
        "        super(BERTClass, self).__init__()\n",
        "        self.l1 = transformers.BertModel.from_pretrained('bert-base-uncased')\n",
        "        self.l2 = torch.nn.Dropout(0.3)\n",
        "        self.l3 = torch.nn.Linear(768, 1)\n",
        "\n",
        "    def forward(self, ids, mask, token_type_ids):\n",
        "        _, output_1= self.l1(ids, attention_mask = mask, token_type_ids = token_type_ids, return_dict=False)\n",
        "\n",
        "        output_2 = self.l2(output_1)\n",
        "        output = self.l3(output_2)\n",
        "        return output\n",
        "\n",
        "    def reset_parameters(self):\n",
        "        for layer in self.children():\n",
        "            if hasattr(layer, 'reset_parameters'):\n",
        "                layer.reset_parameters()\n",
        "\n",
        "model = BERTClass()\n",
        "model.to(device)\n",
        "\n",
        "# Freezes all layers (mostly Bert) apart from final dense layer if activated\n",
        "freeze = False\n",
        "if freeze:\n",
        "    for name, param in model.named_parameters():\n",
        "        if 'l3' not in name: # classifier layer\n",
        "          param.requires_grad = False"
      ],
      "metadata": {
        "id": "2KcXcutcKaXo",
        "execution": {
          "iopub.status.busy": "2024-02-08T00:40:50.424120Z",
          "iopub.execute_input": "2024-02-08T00:40:50.424480Z",
          "iopub.status.idle": "2024-02-08T00:40:50.624744Z",
          "shell.execute_reply.started": "2024-02-08T00:40:50.424450Z",
          "shell.execute_reply": "2024-02-08T00:40:50.623835Z"
        },
        "trusted": true
      },
      "execution_count": null,
      "outputs": []
    },
    {
      "cell_type": "code",
      "source": [
        "def loss_fn(outputs, targets):\n",
        "    return torch.nn.BCEWithLogitsLoss()(outputs, targets)"
      ],
      "metadata": {
        "id": "3U3IiIbSbPUn",
        "execution": {
          "iopub.status.busy": "2024-02-08T00:40:51.535936Z",
          "iopub.execute_input": "2024-02-08T00:40:51.536300Z",
          "iopub.status.idle": "2024-02-08T00:40:51.541159Z",
          "shell.execute_reply.started": "2024-02-08T00:40:51.536272Z",
          "shell.execute_reply": "2024-02-08T00:40:51.540144Z"
        },
        "trusted": true
      },
      "execution_count": null,
      "outputs": []
    },
    {
      "cell_type": "code",
      "source": [
        "# Sets up optimizer and scheduler\n",
        "optimizer = torch.optim.AdamW(params =  model.parameters(), lr=LEARNING_RATE)\n",
        "# total_steps = len(training_loader)*EPOCHS\n",
        "# scheduler = transformers.get_linear_schedule_with_warmup(optimizer, num_warmup_steps=int(0.1 * total_steps), num_training_steps=total_steps)"
      ],
      "metadata": {
        "id": "gpyX1tXJKjPt",
        "execution": {
          "iopub.status.busy": "2024-02-08T00:40:53.144726Z",
          "iopub.execute_input": "2024-02-08T00:40:53.145438Z",
          "iopub.status.idle": "2024-02-08T00:40:53.150514Z",
          "shell.execute_reply.started": "2024-02-08T00:40:53.145396Z",
          "shell.execute_reply": "2024-02-08T00:40:53.149622Z"
        },
        "trusted": true
      },
      "execution_count": null,
      "outputs": []
    },
    {
      "cell_type": "code",
      "source": [
        "def train(epoch):\n",
        "    model.train()\n",
        "    for _,data in enumerate(training_loader, 0):\n",
        "        ids = data['ids'].to(device, dtype = torch.long)\n",
        "        mask = data['mask'].to(device, dtype = torch.long)\n",
        "        token_type_ids = data['token_type_ids'].to(device, dtype = torch.long)\n",
        "        targets = data['targets'].to(device, dtype = torch.float)\n",
        "\n",
        "        # Forward pass\n",
        "        outputs = model(ids, mask, token_type_ids)\n",
        "        outputs = outputs.flatten()\n",
        "\n",
        "        # Clear previous gradients\n",
        "        optimizer.zero_grad()\n",
        "        loss = loss_fn(outputs, targets)\n",
        "        if _%1000==0:\n",
        "            print(f'Epoch: {epoch}, Loss:  {loss.item()}')\n",
        "\n",
        "        optimizer.zero_grad()\n",
        "        # Backward pass\n",
        "        loss.backward()\n",
        "        # Take a step using computer gradient\n",
        "        optimizer.step()"
      ],
      "metadata": {
        "id": "5nzDVLF-Kk4q",
        "execution": {
          "iopub.status.busy": "2024-02-08T00:40:54.953524Z",
          "iopub.execute_input": "2024-02-08T00:40:54.954198Z",
          "iopub.status.idle": "2024-02-08T00:40:54.961675Z",
          "shell.execute_reply.started": "2024-02-08T00:40:54.954163Z",
          "shell.execute_reply": "2024-02-08T00:40:54.960586Z"
        },
        "trusted": true
      },
      "execution_count": null,
      "outputs": []
    },
    {
      "cell_type": "code",
      "source": [
        "def validation(model):\n",
        "    model.eval()\n",
        "    fin_targets=[]\n",
        "    fin_outputs=[]\n",
        "    with torch.no_grad():\n",
        "        for _, data in enumerate(validation_loader, 0):\n",
        "            ids = data['ids'].to(device, dtype = torch.long)\n",
        "            mask = data['mask'].to(device, dtype = torch.long)\n",
        "            token_type_ids = data['token_type_ids'].to(device, dtype = torch.long)\n",
        "            targets = data['targets'].to(device, dtype = torch.float)\n",
        "            outputs = model(ids, mask, token_type_ids)\n",
        "\n",
        "            # Append batch targets and predictions to lists\n",
        "            fin_targets.extend(targets.cpu().detach().numpy().tolist())\n",
        "            fin_outputs.extend(torch.sigmoid(outputs).cpu().detach().numpy().tolist())\n",
        "    return fin_outputs, fin_targets"
      ],
      "metadata": {
        "id": "0D8uzaObKrQq",
        "execution": {
          "iopub.status.busy": "2024-02-08T00:40:56.473117Z",
          "iopub.execute_input": "2024-02-08T00:40:56.473493Z",
          "iopub.status.idle": "2024-02-08T00:40:56.484107Z",
          "shell.execute_reply.started": "2024-02-08T00:40:56.473461Z",
          "shell.execute_reply": "2024-02-08T00:40:56.480927Z"
        },
        "trusted": true
      },
      "execution_count": null,
      "outputs": []
    },
    {
      "cell_type": "code",
      "source": [
        "# Selects best threshold to calculate F1-score\n",
        "def select_threshold(outputs, targets):\n",
        "    results = {}\n",
        "    for tr in np.arange(0.1, 0.9, 0.01):\n",
        "        tr = round(tr, 2)\n",
        "        predictions= np.array(outputs) >= tr\n",
        "        results[tr] = metrics.f1_score(targets, predictions, average=\"macro\")\n",
        "    return max(results,key=results.get)\n",
        "\n",
        "# Calculates accuracy and F1-score on validation data\n",
        "def get_val_metrics(outputs, targets):\n",
        "    threshold = select_threshold(outputs, targets)\n",
        "    outputs = np.array(outputs) >= threshold\n",
        "    return metrics.accuracy_score(targets, outputs), metrics.f1_score(targets, outputs, average='macro')"
      ],
      "metadata": {
        "id": "DXOun4UXUQyf",
        "execution": {
          "iopub.status.busy": "2024-02-08T00:40:57.800374Z",
          "iopub.execute_input": "2024-02-08T00:40:57.800758Z",
          "iopub.status.idle": "2024-02-08T00:40:57.807853Z",
          "shell.execute_reply.started": "2024-02-08T00:40:57.800730Z",
          "shell.execute_reply": "2024-02-08T00:40:57.806851Z"
        },
        "trusted": true
      },
      "execution_count": null,
      "outputs": []
    },
    {
      "cell_type": "code",
      "source": [
        "# Setting random seed for reproducibility\n",
        "seeds = [123, 246, 369, 12, 24]\n",
        "\n",
        "# Setting random seed for numpy and pytorch\n",
        "def set_seeds(seed):\n",
        "    np.random.seed(seed)\n",
        "    torch.manual_seed(seed)\n",
        "    torch.cuda.manual_seed(seed)\n",
        "\n",
        "\n",
        "for seed in seeds:\n",
        "    set_seeds(seed)\n",
        "    print(\"CURRENTLY RUNNING MODEL FOR SEED {0}\".format(seed))\n",
        "    for epoch in range(EPOCHS):\n",
        "        train(epoch)\n",
        "        outputs, targets = validation(model)\n",
        "        val_accuracy, val_f1 = get_val_metrics(outputs, targets)\n",
        "\n",
        "        print(f\"Validation Accuracy: {val_accuracy:.4f}\")\n",
        "        print(f\"Validation F1-score: {val_f1:.4f}\")\n",
        "\n",
        "    torch.save(model, \"{0}_model_seed_{1}.pth\".format('freeze' if freeze else 'full', seed))\n",
        "    model.reset_parameters()"
      ],
      "metadata": {
        "colab": {
          "base_uri": "https://localhost:8080/"
        },
        "id": "kH_OrDJwKpLs",
        "outputId": "438df401-1dd5-4106-e431-1c59caf61a6b",
        "execution": {
          "iopub.status.busy": "2024-02-08T00:40:59.610651Z",
          "iopub.execute_input": "2024-02-08T00:40:59.611210Z",
          "iopub.status.idle": "2024-02-08T00:55:51.485633Z",
          "shell.execute_reply.started": "2024-02-08T00:40:59.611178Z",
          "shell.execute_reply": "2024-02-08T00:55:51.484652Z"
        },
        "trusted": true
      },
      "execution_count": null,
      "outputs": [
        {
          "name": "stdout",
          "text": "CURRENTLY RUNNING MODEL FOR SEED 123\nEpoch: 0, Loss:  0.7806397676467896\nEpoch: 0, Loss:  0.5214646458625793\nEpoch: 0, Loss:  0.5737794637680054\nEpoch: 0, Loss:  0.16036275029182434\nValidation Accuracy: 0.8306\nValidation F1-score: 0.7201\nCURRENTLY RUNNING MODEL FOR SEED 246\nEpoch: 0, Loss:  0.5033544301986694\nEpoch: 0, Loss:  0.12663865089416504\nEpoch: 0, Loss:  0.6984211802482605\nEpoch: 0, Loss:  0.1593845784664154\nValidation Accuracy: 0.8429\nValidation F1-score: 0.7284\nCURRENTLY RUNNING MODEL FOR SEED 369\nEpoch: 0, Loss:  0.6752235293388367\nEpoch: 0, Loss:  0.0734274834394455\nEpoch: 0, Loss:  0.08232768625020981\nEpoch: 0, Loss:  0.2851330041885376\nValidation Accuracy: 0.8471\nValidation F1-score: 0.7419\nCURRENTLY RUNNING MODEL FOR SEED 12\nEpoch: 0, Loss:  1.108656406402588\nEpoch: 0, Loss:  0.17615142464637756\nEpoch: 0, Loss:  0.3591729998588562\nEpoch: 0, Loss:  0.36471840739250183\nValidation Accuracy: 0.8463\nValidation F1-score: 0.7387\nCURRENTLY RUNNING MODEL FOR SEED 24\nEpoch: 0, Loss:  0.7406948208808899\nEpoch: 0, Loss:  0.6072749495506287\nEpoch: 0, Loss:  0.5899301767349243\nEpoch: 0, Loss:  0.2189917415380478\nValidation Accuracy: 0.8474\nValidation F1-score: 0.7496\n",
          "output_type": "stream"
        }
      ]
    },
    {
      "cell_type": "code",
      "source": [
        "def get_sequence_f1_scores(outputs, targets):\n",
        "    utterance_dict = {}\n",
        "    f1_scores = []\n",
        "\n",
        "    # Creates dictionary that contains a list of predictions and targets for each utterance/dialogue\n",
        "    for output, target, index in zip(outputs, targets, df['episode']):\n",
        "        if index in utterance_dict:\n",
        "            utterance_dict[index]['output'].append(output.tolist()[0])\n",
        "            utterance_dict[index]['target'].append(target)\n",
        "        else:\n",
        "            utterance_dict[index] = {'output': [output.tolist()[0]], 'target': [target]}\n",
        "\n",
        "    # Computes F1-score for each utterance/dialogue\n",
        "    for key, utterance in utterance_dict.items():\n",
        "        pred = utterance['output']\n",
        "        target = utterance['target']\n",
        "        f1_scores.append(metrics.f1_score(target, pred, average='macro'))\n",
        "\n",
        "    sequence_f1 = np.mean(f1_scores)\n",
        "    unrolled_sequence_f1 = metrics.f1_score(targets, outputs, average='macro')\n",
        "\n",
        "    return sequence_f1, unrolled_sequence_f1"
      ],
      "metadata": {
        "id": "UHajRzqzluln",
        "execution": {
          "iopub.status.busy": "2024-02-08T00:55:59.259070Z",
          "iopub.execute_input": "2024-02-08T00:55:59.259476Z",
          "iopub.status.idle": "2024-02-08T00:55:59.269056Z",
          "shell.execute_reply.started": "2024-02-08T00:55:59.259435Z",
          "shell.execute_reply": "2024-02-08T00:55:59.267847Z"
        },
        "trusted": true
      },
      "execution_count": null,
      "outputs": []
    },
    {
      "cell_type": "code",
      "source": [
        "for seed in seeds:\n",
        "    print(f\"Running seed {seed}\")\n",
        "    if freeze:\n",
        "        model = torch.load(\"freeze_model_seed_{0}.pth\".format(seed))\n",
        "    else:\n",
        "        model = torch.load(\"full_model_seed_{0}.pth\".format(seed))\n",
        "    # Select best threshold to be used on the test dataset\n",
        "    outputs, targets = validation(model)\n",
        "    threshold = select_threshold(outputs, targets)\n",
        "    outputs = np.array(outputs) >= threshold\n",
        "    thresholds[seed] = threshold\n",
        "\n",
        "    sequence_f1, unrolled_sequence_f1 = get_sequence_f1_scores(outputs, targets)\n",
        "    print(f\"Sequence F1 Score = {sequence_f1}\")\n",
        "    print(f\"Unrolled Sequence F1 Score = {unrolled_sequence_f1}\")"
      ],
      "metadata": {
        "id": "BlRtT53us9vG",
        "colab": {
          "base_uri": "https://localhost:8080/"
        },
        "outputId": "bfd572a2-5bc3-4aaf-a439-f43483c4846b",
        "execution": {
          "iopub.status.busy": "2024-02-08T00:56:00.627509Z",
          "iopub.execute_input": "2024-02-08T00:56:00.628012Z",
          "iopub.status.idle": "2024-02-08T00:57:39.925225Z",
          "shell.execute_reply.started": "2024-02-08T00:56:00.627963Z",
          "shell.execute_reply": "2024-02-08T00:57:39.924171Z"
        },
        "trusted": true
      },
      "execution_count": null,
      "outputs": [
        {
          "name": "stdout",
          "text": "Sequence F1 Score = 0.6984493270130043\nUnrolled Sequence F1 Score = 0.7200717145111828\nSequence F1 Score = 0.7107521887723869\nUnrolled Sequence F1 Score = 0.7284148342780266\nSequence F1 Score = 0.7195217405155188\nUnrolled Sequence F1 Score = 0.7418941317959551\nSequence F1 Score = 0.7224086295078417\nUnrolled Sequence F1 Score = 0.7386712676067284\nSequence F1 Score = 0.7368970634037277\nUnrolled Sequence F1 Score = 0.7495529741689821\n",
          "output_type": "stream"
        }
      ]
    },
    {
      "cell_type": "code",
      "source": [
        "def test(model):\n",
        "    model.eval()\n",
        "    fin_targets=[]\n",
        "    fin_outputs=[]\n",
        "    with torch.no_grad():\n",
        "        for _, data in enumerate(test_loader, 0):\n",
        "            ids = data['ids'].to(device, dtype = torch.long)\n",
        "            mask = data['mask'].to(device, dtype = torch.long)\n",
        "            token_type_ids = data['token_type_ids'].to(device, dtype = torch.long)\n",
        "            targets = data['targets'].to(device, dtype = torch.float)\n",
        "            outputs = model(ids, mask, token_type_ids)\n",
        "            fin_targets.extend(targets.cpu().detach().numpy().tolist())\n",
        "            fin_outputs.extend(torch.sigmoid(outputs).cpu().detach().numpy().tolist())\n",
        "    return fin_outputs, fin_targets"
      ],
      "metadata": {
        "id": "GniP5PhnS7ri",
        "execution": {
          "iopub.status.busy": "2024-02-08T00:58:05.830966Z",
          "iopub.execute_input": "2024-02-08T00:58:05.831860Z",
          "iopub.status.idle": "2024-02-08T00:58:05.838867Z",
          "shell.execute_reply.started": "2024-02-08T00:58:05.831821Z",
          "shell.execute_reply": "2024-02-08T00:58:05.838044Z"
        },
        "trusted": true
      },
      "execution_count": null,
      "outputs": []
    },
    {
      "cell_type": "code",
      "source": [
        "for seed in seeds:\n",
        "    print(f\"Running seed {seed}\")\n",
        "    if freeze:\n",
        "        model = torch.load(\"freeze_model_seed_{0}.pth\".format(seed))\n",
        "    else:\n",
        "        model = torch.load(\"full_model_seed_{0}.pth\".format(seed))\n",
        "    outputs, targets = test(model)\n",
        "    outputs = np.array(outputs) >= thresholds[seed]\n",
        "\n",
        "    sequence_f1, unrolled_sequence_f1 = get_sequence_f1_scores(outputs, targets)\n",
        "    print(f\"Sequence F1 Score = {sequence_f1}\")\n",
        "    print(f\"Unrolled Sequence F1 Score = {unrolled_sequence_f1}\")"
      ],
      "metadata": {
        "colab": {
          "base_uri": "https://localhost:8080/"
        },
        "id": "6RatmpCm1YvJ",
        "outputId": "1e67cfdd-02d5-419b-bd77-b0dc8891dc7b",
        "execution": {
          "iopub.status.busy": "2024-02-08T00:59:01.046606Z",
          "iopub.execute_input": "2024-02-08T00:59:01.046997Z",
          "iopub.status.idle": "2024-02-08T01:00:38.016270Z",
          "shell.execute_reply.started": "2024-02-08T00:59:01.046947Z",
          "shell.execute_reply": "2024-02-08T01:00:38.015313Z"
        },
        "trusted": true
      },
      "execution_count": null,
      "outputs": [
        {
          "name": "stdout",
          "text": "Running seed 123\nSequence F1 Score = 0.674465156061548\nUnrolled Sequence F1 Score = 0.7041256734848884\nRunning seed 246\nSequence F1 Score = 0.678280568876201\nUnrolled Sequence F1 Score = 0.7058532054470836\nRunning seed 369\nSequence F1 Score = 0.6932898465131987\nUnrolled Sequence F1 Score = 0.70474811693913\nRunning seed 12\nSequence F1 Score = 0.6912687558338542\nUnrolled Sequence F1 Score = 0.7106278361981957\nRunning seed 24\nSequence F1 Score = 0.6947350091262108\nUnrolled Sequence F1 Score = 0.7193942154369856\n",
          "output_type": "stream"
        }
      ]
    },
    {
      "cell_type": "code",
      "source": [
        "def average_f1_score():\n",
        "    sequence_f1_scores = []\n",
        "    unrolled_sequence_f1_scores = []\n",
        "\n",
        "    for seed in seeds:\n",
        "        if freeze:\n",
        "            model = torch.load(\"freeze_model_seed_{0}.pth\".format(seed))\n",
        "        else:\n",
        "            model = torch.load(\"full_model_seed_{0}.pth\".format(seed))\n",
        "\n",
        "        model.eval()\n",
        "        outputs, targets = test(model)\n",
        "        outputs = np.array(outputs) >= thresholds[seed]\n",
        "\n",
        "        sequence_f1, unrolled_sequence_f1 = get_sequence_f1_scores(outputs, targets)\n",
        "        sequence_f1_scores.append(sequence_f1)\n",
        "        unrolled_sequence_f1_scores.append(unrolled_sequence_f1)\n",
        "\n",
        "\n",
        "    average_f1 = sum(sequence_f1_scores)/len(sequence_f1_scores)\n",
        "    average_unrolled_f1 = sum(unrolled_sequence_f1_scores)/len(unrolled_sequence_f1_scores)\n",
        "\n",
        "    print(f\"Average Sequence F1 Score = {sequence_f1}\")\n",
        "    print(f\"Average Unrolled Sequence F1 Score = {unrolled_sequence_f1}\")"
      ],
      "metadata": {
        "id": "Z-_5OFGn1526",
        "execution": {
          "iopub.status.busy": "2024-02-08T01:01:02.624059Z",
          "iopub.execute_input": "2024-02-08T01:01:02.624761Z",
          "iopub.status.idle": "2024-02-08T01:01:02.632525Z",
          "shell.execute_reply.started": "2024-02-08T01:01:02.624728Z",
          "shell.execute_reply": "2024-02-08T01:01:02.631581Z"
        },
        "trusted": true
      },
      "execution_count": null,
      "outputs": []
    },
    {
      "cell_type": "code",
      "source": [
        "average_f1_score()"
      ],
      "metadata": {
        "colab": {
          "base_uri": "https://localhost:8080/"
        },
        "id": "bsdk4AUM86xe",
        "outputId": "6f6f32f9-7ece-4fa8-a46a-86606f71ae3d",
        "execution": {
          "iopub.status.busy": "2024-02-08T01:01:04.749581Z",
          "iopub.execute_input": "2024-02-08T01:01:04.750207Z",
          "iopub.status.idle": "2024-02-08T01:02:41.561600Z",
          "shell.execute_reply.started": "2024-02-08T01:01:04.750173Z",
          "shell.execute_reply": "2024-02-08T01:02:41.560606Z"
        },
        "trusted": true
      },
      "execution_count": null,
      "outputs": [
        {
          "name": "stdout",
          "text": "[0.6859470800451952, 0.6813020245948789, 0.6727882178926583, 0.6853618039439726, 0.6885031258000684]\n[0.7041256734848884, 0.7058532054470836, 0.70474811693913, 0.7106278361981957, 0.7193942154369856]\nAverage Sequence F1 Score = 0.6885031258000684\nAverage Unrolled Sequence F1 Score = 0.7193942154369856\n",
          "output_type": "stream"
        }
      ]
    },
    {
      "cell_type": "markdown",
      "source": [
        "##Error analysis"
      ],
      "metadata": {
        "id": "lhdSPyqZtflN"
      }
    },
    {
      "cell_type": "code",
      "source": [
        "# Confusion Matrix\n",
        "\n",
        "import matplotlib.pyplot as plt\n",
        "from sklearn.metrics import confusion_matrix, ConfusionMatrixDisplay, roc_curve, precision_recall_curve\n",
        "from sklearn import metrics\n",
        "\n",
        "y_true = targets\n",
        "y_pred = outputs\n",
        "\n",
        "cm = confusion_matrix(y_true, y_pred)\n",
        "disp = ConfusionMatrixDisplay(confusion_matrix=cm)\n",
        "disp.plot()\n",
        "plt.title('Confusion Matrix')\n",
        "plt.show()"
      ],
      "metadata": {
        "id": "yAVETS5OtUAA",
        "colab": {
          "base_uri": "https://localhost:8080/",
          "height": 472
        },
        "outputId": "1749a0b4-ad68-479e-f95d-41186b14eee8"
      },
      "execution_count": null,
      "outputs": [
        {
          "output_type": "display_data",
          "data": {
            "text/plain": [
              "<Figure size 640x480 with 2 Axes>"
            ],
            "image/png": "[encoded data removed]"
          },
          "metadata": {}
        }
      ]
    },
    {
      "cell_type": "code",
      "source": [
        "# ROC Curve\n",
        "\n",
        "metrics.RocCurveDisplay.from_predictions(y_true, y_pred)\n",
        "plt.show()"
      ],
      "metadata": {
        "colab": {
          "base_uri": "https://localhost:8080/",
          "height": 449
        },
        "id": "Hl-S3HeGy-B4",
        "outputId": "2032141b-7b62-40f5-8030-34d44fd119fe"
      },
      "execution_count": null,
      "outputs": [
        {
          "output_type": "display_data",
          "data": {
            "text/plain": [
              "<Figure size 640x480 with 1 Axes>"
            ],
            "image/png": "[encoded data removed]"
          },
          "metadata": {}
        }
      ]
    },
    {
      "cell_type": "code",
      "source": [
        "# PrecisionRecall\n",
        "\n",
        "precision, recall, _ = precision_recall_curve(y_true, y_pred)\n",
        "plt.plot(recall, precision, marker='.')\n",
        "plt.xlabel('Recall')\n",
        "plt.ylabel('Precision')\n",
        "plt.title('Precision-Recall curve')\n",
        "plt.show()\n"
      ],
      "metadata": {
        "colab": {
          "base_uri": "https://localhost:8080/",
          "height": 472
        },
        "id": "TADLQ9-zzUvj",
        "outputId": "cbecac5c-c41a-4dd0-f279-12b11ef0ffd7"
      },
      "execution_count": null,
      "outputs": [
        {
          "output_type": "display_data",
          "data": {
            "text/plain": [
              "<Figure size 640x480 with 1 Axes>"
            ],
            "image/png": "[encoded data removed]"
          },
          "metadata": {}
        }
      ]
    }
  ]
}